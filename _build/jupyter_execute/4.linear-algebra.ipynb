{
 "cells": [
  {
   "cell_type": "markdown",
   "id": "c0a1f5d6-12a0-40f9-9246-f3501d646ff0",
   "metadata": {},
   "source": [
    "# Linear Algebra\n",
    "\n",
    "In the final part of this lesson, we are going to focus on a branch of mathematics called linear algebra. Many concepts in linear algebra are central to image processing and statistical analysis, as we will see as the course progresses. However, we recognise that this prospect may be filling some of you with anxiety and dread, especially if you are one of those people who says \"I can't do maths\" or \"I just don't get maths\". The key thing to stress is that we will be emphasising conceptual knowledge over working knowledge. In other words, we will not be asking you to solve equations or write proofs, but we do need you to know what a matrix is, what a vector is, what a matrix inverse is used for and so on. The aim is that after reading this section you will be able to see an equation such as\n",
    "\n",
    "$$\n",
    "\\boldsymbol{A} = \\boldsymbol{B}^{\\prime}\\boldsymbol{C}^{-1}\\boldsymbol{D} + \\boldsymbol{E}\n",
    "$$\n",
    "\n",
    "and have a degree of confidence in understanding what is going on. You will not have the skills to manipulate the equation, or even understand where the equation comes from, but you will have some understanding of the different elements of the equation and what they mean. In addition, we will not be expecting you to do any arithmetic. Instead, we encourage exploration of linear algebra through playing around inside MATLAB to solidify your understanding, without having to go through the pain of calculating things manually. So hopefully, this will be relatively painless, even if you have concerns about your mathematical ability."
   ]
  },
  {
   "cell_type": "code",
   "execution_count": 1,
   "id": "afab6906-38d2-4526-99b9-cdfb6fbc7b30",
   "metadata": {
    "tags": []
   },
   "outputs": [
    {
     "data": {
      "text/html": [
       "<html><body><pre>M = 4x4 double\n",
       "    0.9040    0.9757    0.2695    0.7098\n",
       "    0.9409    0.3172    0.5896    0.3383\n",
       "    0.8025    0.8128    0.8330    0.0466\n",
       "    0.2420    0.6974    0.3638    0.7636\n",
       "</pre></body></html>"
      ],
      "text/plain": [
       "M = 4x4 double\n",
       "    0.9040    0.9757    0.2695    0.7098\n",
       "    0.9409    0.3172    0.5896    0.3383\n",
       "    0.8025    0.8128    0.8330    0.0466\n",
       "    0.2420    0.6974    0.3638    0.7636\n"
      ]
     },
     "execution_count": 1,
     "metadata": {},
     "output_type": "execute_result"
    }
   ],
   "source": [
    "M = rand(4,4)"
   ]
  },
  {
   "cell_type": "code",
   "execution_count": null,
   "id": "0675c50e-fa00-441b-a5d9-6cfffad64fd7",
   "metadata": {},
   "outputs": [],
   "source": []
  }
 ],
 "metadata": {
  "kernelspec": {
   "display_name": "MATLAB Kernel",
   "language": "matlab",
   "name": "jupyter_matlab_kernel"
  },
  "language_info": {
   "file_extension": ".m",
   "mimetype": "text/x-matlab",
   "name": "matlab"
  }
 },
 "nbformat": 4,
 "nbformat_minor": 5
}