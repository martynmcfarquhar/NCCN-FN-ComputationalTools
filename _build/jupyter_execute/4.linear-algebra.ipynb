{
 "cells": [
  {
   "cell_type": "markdown",
   "id": "c0a1f5d6-12a0-40f9-9246-f3501d646ff0",
   "metadata": {},
   "source": [
    "# Linear Algebra"
   ]
  },
  {
   "cell_type": "code",
   "execution_count": 1,
   "id": "afab6906-38d2-4526-99b9-cdfb6fbc7b30",
   "metadata": {
    "tags": []
   },
   "outputs": [
    {
     "data": {
      "text/html": [
       "<html><body><pre>M = 4x4 double\n",
       "    0.9040    0.9757    0.2695    0.7098\n",
       "    0.9409    0.3172    0.5896    0.3383\n",
       "    0.8025    0.8128    0.8330    0.0466\n",
       "    0.2420    0.6974    0.3638    0.7636\n",
       "</pre></body></html>"
      ],
      "text/plain": [
       "M = 4x4 double\n",
       "    0.9040    0.9757    0.2695    0.7098\n",
       "    0.9409    0.3172    0.5896    0.3383\n",
       "    0.8025    0.8128    0.8330    0.0466\n",
       "    0.2420    0.6974    0.3638    0.7636\n"
      ]
     },
     "execution_count": 1,
     "metadata": {},
     "output_type": "execute_result"
    }
   ],
   "source": [
    "M = rand(4,4)"
   ]
  },
  {
   "cell_type": "code",
   "execution_count": null,
   "id": "0675c50e-fa00-441b-a5d9-6cfffad64fd7",
   "metadata": {},
   "outputs": [],
   "source": []
  }
 ],
 "metadata": {
  "kernelspec": {
   "display_name": "MATLAB Kernel",
   "language": "matlab",
   "name": "jupyter_matlab_kernel"
  },
  "language_info": {
   "file_extension": ".m",
   "mimetype": "text/x-matlab",
   "name": "matlab"
  }
 },
 "nbformat": 4,
 "nbformat_minor": 5
}