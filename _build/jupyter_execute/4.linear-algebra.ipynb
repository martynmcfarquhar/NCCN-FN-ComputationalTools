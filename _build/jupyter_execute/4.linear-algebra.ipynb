{
 "cells": [
  {
   "cell_type": "markdown",
   "id": "c0a1f5d6-12a0-40f9-9246-f3501d646ff0",
   "metadata": {},
   "source": [
    "# Linear Algebra\n",
    "\n",
    "In the final part of this lesson, we are going to focus on a branch of mathematics called linear algebra. Many concepts in linear algebra are central to image processing and statistical analysis, as we will see as the course progresses. However, we recognise that this prospect may be filling some of you with anxiety and dread, especially if you are one of those people who says \"I can't do maths\" or \"I just don't get maths\". The key thing to stress is that we will be emphasising conceptual knowledge over working knowledge. In other words, we will not be asking you to solve equations or write proofs, but we do need you to know what a matrix is, what a vector is, what a matrix inverse is used for and so on. The aim is that after reading this section you will be able to see an equation such as\n",
    "\n",
    "$$\n",
    "\\mathbf{A} = \\mathbf{B}^{\\prime}\\mathbf{C}^{-1}\\mathbf{D} + \\mathbf{E}\n",
    "$$\n",
    "\n",
    "and have a degree of confidence in understanding what is going on. You will not have the skills to manipulate the equation, or even understand where the equation comes from, but you will have some understanding of the different elements of the equation and what they mean. In addition, we will not be expecting you to do any arithmetic. Instead, we encourage exploration of linear algebra through playing around inside MATLAB to solidify your understanding, without having to go through the pain of calculating things manually. So hopefully, this will be relatively painless, even if you have concerns about your mathematical ability.\n",
    "\n",
    "## What is linear algebra?\n",
    "\n",
    "We will start with the big picture view of what linear algebra is. Linear algebra is all about linear equations and their representation using mathematical objects called matrices. A linear equation is simply an equation where some numbers are multiplied by other numbers and then added together to form a weighted-sum. For example, the equation below is a linear equation\n",
    "\n",
    "$$\n",
    "y = a_{1}x_{1} + a_{2}x_{2} + b\n",
    "$$\n",
    "\n",
    "where we have two *variables* ($x_{1}$ and $x_{2}$) and three *coefficients* ($a_{1}$, $a_{2}$ and $b$). Each variable is multiplied by its respective coefficient and the products are added together to form $y$. The important point here is that the variables can take on any value (hence they can vary), whereas the coefficients are usually fixed. This is easiest to see when we have an equation with a single variable such as\n",
    "\n",
    "$$\n",
    "y = 0.5x + 1\n",
    "$$\n",
    "\n",
    "where $a_{1} = 0.5$ and $b = 1$. By using different values for $x$, we can calculate all the points on the straight line shown in {numref}`linear-eq-graph-fig`. Here we can see that the coefficient $a_{1}$ is the *slope* of the line and the coefficient $b$ represents the *intercept* of the line (the point where the line intersects the *y*-axis). If there was no $b$ then the line would be forced to go through 0.\n",
    "\n",
    "```{figure} images/linear-eq-graph.png\n",
    "---\n",
    "width: 450px\n",
    "name: linear-eq-graph-fig\n",
    "---\n",
    "Example of the straight line described by the linear equation $y = 0.5x + 1$.\n",
    "```\n",
    "\n",
    "So, in brief, a linear equation is a weighted sum that can be used to define points along a straight lines. But what does that have to do with linear algebra? Within many branches of science, linear equations are used a lot to solve real-world problems. However, in real-world applications, there will often be more than one equation needed. These multiple equations are known as a system of linear equations. These equations share the same coefficients, but have different values for the variables. What matrices allow us to do is represent and solve a system of linear equations. In a sense, they provide a means of organising information to make large systems of linear equations easier to deal with. So although there are deeper mathematical interpretations of matrices, for our purposes you can just think of them of a way of organising many numbers in one place.\n",
    "\n",
    "## Matrices and Vectors\n",
    "\n",
    "In terms of a formal definition, a matrix is an array of numbers that has a set number of rows and a set number of columns. For example, the following shows that the matrix A contains 2 rows and 3 columns.\n",
    "\n",
    "$$\n",
    "\\mathbf{A} = \n",
    "\\begin{bmatrix}\n",
    "1 & 5 & 6 \\\\\n",
    "4 & 8 & 2\n",
    "\\end{bmatrix}\n",
    "$$\n",
    "\n",
    "Matrices are written in shorthand by using **bold** uppercase letters, to distinguish them from regular variables. We can refer to an individual element of a matrix using the lowercase version of the letter, along with indices to show which row and column we are referring to. For instance $a_{12}$ refers to the element at row 1 column 2 of matrix $\\mathbf{A}$. For instance\n",
    "\n",
    "$$\n",
    "\\begin{align}\n",
    "a_{11} &= 1, a_{12} = 5, a_{13} = 6 \\\\\n",
    "a_{21} &= 4, a_{22} = 7, a_{23} = 2\n",
    "\\end{align}\n",
    "$$\n",
    "\n",
    "In comparison, a vector is either a single row or a single column from a matrix. As such, we can have row-vectors or column-vectors, depending on their orientation. For example, we can see below a row-vector $\\mathbf{B}$ and a column vector $\\mathbf{C}$. Sometimes vectors are written using bold lowercase letters to distinguish them from matrices, but this is not universal.\n",
    "\n",
    "$$\n",
    "\\begin{align}\n",
    "\\mathbf{B} &= \n",
    "\\begin{bmatrix}\n",
    "1 & 5 & 6\n",
    "\\end{bmatrix} \\\\\n",
    "\\mathbf{C} &=\n",
    "\\begin{bmatrix}\n",
    "5 \\\\\n",
    "8\n",
    "\\end{bmatrix}\n",
    "\\end{align}\n",
    "$$\n",
    "\n",
    "We can refer to individual elements in the same way as a matrix, but we only need a single index. For instance\n",
    "\n",
    "$$\n",
    "b_{1} = 1, b_{2} = 5, b_{3} = 6\n",
    "$$\n",
    "\n",
    "## Matrix Addition and Subtraction\n",
    "\n",
    "Just like regular numbers, the operations of addition and subtraction also apply to matrices. So we can add matrix A to matrix B to get a new matrix C\n",
    "\n",
    "$$\n",
    "\\mathbf{C} = \\mathbf{A} + \\mathbf{B}\n",
    "$$\n",
    "\n",
    "However, unlike regular numbers, there are rules for matrix addition. For instance, you can only add two matrices or two vectors with identical numbers of rows and columns. This is because when you add matrices together you add the individual elements of one matrix to the other. This only works if there are the same number of elements in each matrix. We can see this in the MATLAB code below."
   ]
  },
  {
   "cell_type": "code",
   "execution_count": 1,
   "id": "afab6906-38d2-4526-99b9-cdfb6fbc7b30",
   "metadata": {
    "tags": []
   },
   "outputs": [
    {
     "data": {
      "text/html": [
       "<html><body><pre>A = 2x3 double\n",
       "     1     2     3\n",
       "     4     5     6\n",
       "</pre></body></html>"
      ],
      "text/plain": [
       "A = 2x3 double\n",
       "     1     2     3\n",
       "     4     5     6\n"
      ]
     },
     "execution_count": 1,
     "metadata": {},
     "output_type": "execute_result"
    },
    {
     "data": {
      "text/html": [
       "<html><body><pre>B = 2x3 double\n",
       "     7     8     9\n",
       "    10    11    12\n",
       "</pre></body></html>"
      ],
      "text/plain": [
       "B = 2x3 double\n",
       "     7     8     9\n",
       "    10    11    12\n"
      ]
     },
     "execution_count": 1,
     "metadata": {},
     "output_type": "execute_result"
    },
    {
     "data": {
      "text/html": [
       "<html><body><pre>C = 2x3 double\n",
       "     8    10    12\n",
       "    14    16    18\n",
       "</pre></body></html>"
      ],
      "text/plain": [
       "C = 2x3 double\n",
       "     8    10    12\n",
       "    14    16    18\n"
      ]
     },
     "execution_count": 1,
     "metadata": {},
     "output_type": "execute_result"
    }
   ],
   "source": [
    "A = [1 2 3; 4  5  6]\n",
    "B = [7 8 9; 10 11 12]\n",
    "C = A + B"
   ]
  },
  {
   "cell_type": "markdown",
   "id": "2ea595b7-9cc4-49a2-885b-9a804ffaf7f2",
   "metadata": {},
   "source": [
    "Formally, we can write that\n",
    "\n",
    "$$\n",
    "\\mathbf{C} = \\mathbf{A} + \\mathbf{B} =\n",
    "\\begin{bmatrix}\n",
    "a_{11} + b_{11} & a_{12} + b_{12} & \\dots  & a_{1k} + b_{1k} \\\\\n",
    "a_{21} + b_{21} & a_{22} + b_{22} & \\dots  & a_{2k} + b_{2k} \\\\\n",
    "\\vdots          & \\vdots          & \\ddots & \\vdots          \\\\\n",
    "a_{j1} + b_{j1} & a_{j2} + b_{j2} & \\dots  & a_{jk} + b_{jk} \\\\\n",
    "\\end{bmatrix}\n",
    "$$\n",
    "\n",
    "where the ellipses just mean \"continue the pattern along this direction\". Matrix subtraction works in the same way, so we have\n",
    "\n",
    "$$\n",
    "\\mathbf{C} = \\mathbf{A} - \\mathbf{B}\n",
    "$$\n",
    "\n",
    "which, again, is only defined when $\\mathbf{A}$ and $\\mathbf{B}$ have the same dimensions. For instance"
   ]
  },
  {
   "cell_type": "code",
   "execution_count": 5,
   "id": "ccefd850-bd8f-4711-8f6b-099215e08801",
   "metadata": {
    "tags": []
   },
   "outputs": [
    {
     "data": {
      "text/html": [
       "<html><body><pre>C = 2x3 double\n",
       "    -6    -6    -6\n",
       "    -6    -6    -6\n",
       "</pre></body></html>"
      ],
      "text/plain": [
       "C = 2x3 double\n",
       "    -6    -6    -6\n",
       "    -6    -6    -6\n"
      ]
     },
     "execution_count": 5,
     "metadata": {},
     "output_type": "execute_result"
    }
   ],
   "source": [
    "C = A - B"
   ]
  },
  {
   "cell_type": "markdown",
   "id": "0fcd5047-d444-48e2-b715-0b457334e1cf",
   "metadata": {},
   "source": [
    "## Matrix Multiplication"
   ]
  },
  {
   "cell_type": "code",
   "execution_count": null,
   "id": "d4e0a1c3-de23-4534-a2fd-37f9b45dbc84",
   "metadata": {},
   "outputs": [],
   "source": []
  }
 ],
 "metadata": {
  "kernelspec": {
   "display_name": "MATLAB Kernel",
   "language": "matlab",
   "name": "jupyter_matlab_kernel"
  },
  "language_info": {
   "file_extension": ".m",
   "mimetype": "text/x-matlab",
   "name": "matlab"
  }
 },
 "nbformat": 4,
 "nbformat_minor": 5
}