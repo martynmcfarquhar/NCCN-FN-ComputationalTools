{
 "cells": [
  {
   "cell_type": "markdown",
   "id": "d79698dc-62e1-4f1a-9baf-ff41b3ead17d",
   "metadata": {
    "editable": true,
    "slideshow": {
     "slide_type": ""
    },
    "tags": []
   },
   "source": [
    "# MATLAB and Linear Algebra\n",
    "As mentioned in the previous section, SPM is a software package that is built *on top* of the MATLAB scientific computing environment. Although possible to use SPM without any further knowledge of MATLAB, there is an argument to be made for being at least a *bit* familiar with the MATLAB language. Unfortunately, we do not have time on this course for in-depth training on computer programming. However, we can start using MATLAB as a way of understanding some of the mathematical theory that we will need going forward. This will do double-duty as both a way of getting familiar with MATLAB and a way of learning some mathematical concepts in a more interactive fashion. \n",
    "\n",
    "### The MATLAB Prompt\n",
    "In order to communicate with MATLAB, we use the MATLAB prompt. The prompt is signified in the Command Window by the two angled brackets `>>`. These brackets indicate where we can type commands for MATLAB to interpret. We type something at the prompt, hit <kbd>ENTER</kbd> and then whatever we typed gets sent to the MATLAB interpreter. If MATLAB understands what we typed, it will return the answer. If MATLAB does not understand what we typed, it will return an error.\n",
    "\n",
    "As an example, if we wanted to use MATLAB as a highly over-engineered calculator, we could ask what $3 \\times 4$ is by typing"
   ]
  },
  {
   "cell_type": "code",
   "execution_count": 1,
   "id": "825efa58-07ba-407a-85a8-fb6976dbd5ad",
   "metadata": {
    "tags": []
   },
   "outputs": [
    {
     "data": {
      "text/html": [
       "<html><body><pre>ans = 12</pre></body></html>"
      ],
      "text/plain": [
       "ans = 12"
      ]
     },
     "execution_count": 1,
     "metadata": {},
     "output_type": "execute_result"
    }
   ],
   "source": [
    "3 * 4"
   ]
  },
  {
   "cell_type": "markdown",
   "id": "7cd304ab-0a0c-4f76-a33a-5bc117b23557",
   "metadata": {},
   "source": [
    "However, if we accidentally typed `$` instead of `*`, we would get"
   ]
  },
  {
   "cell_type": "code",
   "execution_count": 4,
   "id": "4ceb09e9-9104-4233-b4ec-81fe087222dc",
   "metadata": {
    "tags": []
   },
   "outputs": [
    {
     "name": "stderr",
     "output_type": "stream",
     "text": [
      "Invalid text character. Check for unsupported symbol, invisible character, or pasting of non-ASCII characters."
     ]
    }
   ],
   "source": [
    "3 $ 4"
   ]
  },
  {
   "cell_type": "markdown",
   "id": "56cff046-c45b-4a5e-a567-520d6aa2e211",
   "metadata": {},
   "source": [
    "In this instance, MATLAB has return an error because it does not undestand what `$` means in this context. "
   ]
  },
  {
   "cell_type": "markdown",
   "id": "f8eee599-f622-4440-863d-81d53ed808c7",
   "metadata": {
    "tags": []
   },
   "source": [
    "`````{admonition} Tip\n",
    ":class: tip\n",
    "When faced with an error, part of the skill of using a programming language is working out why a certain command failed. Even for seasoned programmers, errors are common. Errors will decrease with experience, but they will never disappear. The trick is not to panic, but to read what the error says slowly and carefully. Although tempting to assume the problem is with MATLAB, 9/10 it is a user error. As such, you need to try and develop some skills in discerning what seemingly cryptic error messages mean so that you do not get stuck. This comes with time and experience, but is a valuable skill to develop.\n",
    "`````"
   ]
  },
  {
   "cell_type": "markdown",
   "id": "8ce45a6e-b424-4f6a-aab9-c56c3c314c6f",
   "metadata": {
    "tags": []
   },
   "source": [
    "## Variables\n",
    "Before getting into some of the key linear algebra concepts, we first need to understand some programming fundamentals. One of the most basic characteristics of any programming language is the ability to store things in memory for later use. We do this by using *variables*, which you can think of as boxes with names that we can put something inside to keep for later. As an example, the code below shows the declaration of a variable called `a` and assigning it the number 5."
   ]
  },
  {
   "cell_type": "code",
   "execution_count": 86,
   "id": "c7bd8f6d-7c0a-4d26-9b12-94730b38dbac",
   "metadata": {
    "editable": true,
    "slideshow": {
     "slide_type": ""
    },
    "tags": []
   },
   "outputs": [],
   "source": [
    "a = 5;"
   ]
  },
  {
   "cell_type": "markdown",
   "id": "3c5379d1-2cd6-430d-8f9b-bce628d52d19",
   "metadata": {},
   "source": [
    "Notice here that we have used a semi-colon `;` at the end of the line to suppress MATLAB printing any output. In declaring the variable `a`, we have created a box that we have called `a` that contains the number `5`. Now, every time we type `a`, MATLAB will open this box and use whatever is inside it. As such, if we just type `a` we get "
   ]
  },
  {
   "cell_type": "code",
   "execution_count": 88,
   "id": "c4c81c44-38fc-4af1-ada1-3009850f9310",
   "metadata": {},
   "outputs": [
    {
     "data": {
      "text/html": [
       "<html><body><pre>a = 5</pre></body></html>"
      ],
      "text/plain": [
       "a = 5"
      ]
     },
     "execution_count": 88,
     "metadata": {},
     "output_type": "execute_result"
    }
   ],
   "source": [
    "a"
   ]
  },
  {
   "cell_type": "markdown",
   "id": "e9550ccd-f964-4203-91de-66b5b2fd5e30",
   "metadata": {},
   "source": [
    "but if we do something with the returned value we get"
   ]
  },
  {
   "cell_type": "code",
   "execution_count": 90,
   "id": "5739fd29-8629-4eba-94d3-ded0a77b6033",
   "metadata": {
    "tags": []
   },
   "outputs": [
    {
     "data": {
      "text/html": [
       "<html><body><pre>ans = 12</pre></body></html>"
      ],
      "text/plain": [
       "ans = 12"
      ]
     },
     "execution_count": 90,
     "metadata": {},
     "output_type": "execute_result"
    }
   ],
   "source": [
    "a + 7"
   ]
  },
  {
   "cell_type": "markdown",
   "id": "9aa04da8-b5c3-4957-822a-1b36807a4c5d",
   "metadata": {},
   "source": [
    "`````{admonition} Tip\n",
    ":class: tip\n",
    "Whenever a value is not explicitly assigned to a variable, MATLAB will automatically assign it to a default variable called `ans` (for *answer*).\n",
    "`````\n",
    "\n",
    "Similarly, we could declare another variable with the name `b`"
   ]
  },
  {
   "cell_type": "code",
   "execution_count": 92,
   "id": "d2d256a4-b66a-47be-a0ba-d93b22b4734c",
   "metadata": {
    "editable": true,
    "slideshow": {
     "slide_type": ""
    },
    "tags": []
   },
   "outputs": [],
   "source": [
    "b = 10;"
   ]
  },
  {
   "cell_type": "markdown",
   "id": "35c3ea6b-9663-4a91-8a5b-ed0e48ec9e4a",
   "metadata": {},
   "source": [
    "and then add `a` and `b` together"
   ]
  },
  {
   "cell_type": "code",
   "execution_count": 94,
   "id": "eb22357a-5ece-4c30-9310-5c1ee3bcb4f9",
   "metadata": {
    "tags": []
   },
   "outputs": [
    {
     "data": {
      "text/html": [
       "<html><body><pre>ans = 15</pre></body></html>"
      ],
      "text/plain": [
       "ans = 15"
      ]
     },
     "execution_count": 94,
     "metadata": {},
     "output_type": "execute_result"
    }
   ],
   "source": [
    "a + b"
   ]
  },
  {
   "cell_type": "markdown",
   "id": "86ab793b-0399-4b1d-a6ba-815a9858f51e",
   "metadata": {},
   "source": [
    "Although these examples are quite trivial, the power of variables means that we can create code where we do not know the values of `a` and `b`. Perhaps their value depends upon the data we are using? Or perhaps it depends on some other factor that may change each time the code runs? Either way, it does not really matter what value they have if we know that we want to add them together. Thus we can write generic code that can be used irrespective of what the inputs will be."
   ]
  },
  {
   "cell_type": "markdown",
   "id": "2f493a3f-1c1a-4cee-9ee1-f919f9f8972f",
   "metadata": {},
   "source": [
    "`````{admonition} Tip\n",
    ":class: tip\n",
    "There are rules about naming variables. A variable name cannot start with a number, it cannot contain spaces and the only special character you can use is an underscore. You also need to be aware that MATLAB is case-sensitive, meaning that `variable_a` and `VARIABLE_A` will be interpreted as different entities. MATLAB does not know what you meant to type, only what you *did* type. In addition, remember that a variable can only hold one thing at a time and if you re-assign a variable then the original value will be lost.\n",
    "`````"
   ]
  },
  {
   "cell_type": "markdown",
   "id": "2551a110-3bac-44ae-a067-fbdc7fcd9e1d",
   "metadata": {},
   "source": [
    "## Vectors and Matrices\n",
    "Now that we have the idea of variables in mind, we can move on to understanding some basic principles of linear algebra. Just to reiterate, these are concepts that we will need going forward on the course. As such, it is important to gain some familiarity at this point, even though the context will be missing. Just try and get a feel for some of these ideas and have a go at feeding the code into MATLAB. We will start to see all of this in action as the course progresses, so just do your best to try and understand it even if the relevance is not immediately apparent.  \n",
    "\n",
    "To begin with, the most fundamental entities in linear algebra are *vectors* and *matrices*. We will be using these a lot on this course, so it is important to both understand what a vector or matrix is, as well as understanding how they can be manipulated.\n",
    "\n",
    "### Vectors\n",
    "A vector is simply a list of numbers. For instance\n",
    "\n",
    "$$\n",
    "\\mathbf{a} = \\begin{bmatrix}3 & 4 & 5\\end{bmatrix}.\n",
    "$$\n",
    "\n",
    "Here, $\\mathbf{a}$ is a 3-dimensional row vector with elements 3, 4 and 5. We can refer to the individual elements using *subscripts*. For instance, $a_{1} = 3$, $a_{2} = 4$ and so on. Typically, a vector is written as a **bold** lower-case letter. A vector can also be defined as a *column* of numbers, for instance\n",
    "\n",
    "$$\n",
    "\\mathbf{b} = \n",
    "\\begin{bmatrix}\n",
    "    6 \\\\  \n",
    "    7 \\\\ \n",
    "    8 \\\\\n",
    "\\end{bmatrix}.\n",
    "$$\n",
    "\n",
    "Here, $\\mathbf{b}$ is a 3-dimensional column-vector with elements $b_{1} = 6$, $b_{2} = 7$ and $b_{3} = 8$. Although the orientation of a vector may seem like a trivial detail, we will soon see that this is very important.\n",
    "\n",
    "In MATLAB, a vector is defined using a list of numbers between square brackets. For instance, we can define the vector $\\mathbf{a}$ in MATLAB as"
   ]
  },
  {
   "cell_type": "code",
   "execution_count": 98,
   "id": "bd990ac1-0f8f-4f44-bb28-5499d3ebf2de",
   "metadata": {
    "editable": true,
    "slideshow": {
     "slide_type": ""
    },
    "tags": []
   },
   "outputs": [
    {
     "data": {
      "text/html": [
       "<html><body><pre>a = 1x3 double\n",
       "     3     4     5\n",
       "</pre></body></html>"
      ],
      "text/plain": [
       "a = 1x3 double\n",
       "     3     4     5\n"
      ]
     },
     "execution_count": 98,
     "metadata": {},
     "output_type": "execute_result"
    }
   ],
   "source": [
    "a = [3 4 5]"
   ]
  },
  {
   "cell_type": "markdown",
   "id": "ad78760a-fb94-4987-9848-1186aaca41b2",
   "metadata": {},
   "source": [
    "which tells us that `a` is a $1 \\times 3$ vector of [double-precision](https://en.wikipedia.org/wiki/Double-precision_floating-point_format) values. We can access the individual elements using curved brackets"
   ]
  },
  {
   "cell_type": "code",
   "execution_count": 100,
   "id": "1990adb8-b7be-4129-803a-b42c66c76ce2",
   "metadata": {},
   "outputs": [
    {
     "data": {
      "text/html": [
       "<html><body><pre>ans = 3</pre></body></html>"
      ],
      "text/plain": [
       "ans = 3"
      ]
     },
     "execution_count": 100,
     "metadata": {},
     "output_type": "execute_result"
    }
   ],
   "source": [
    "a(1)"
   ]
  },
  {
   "cell_type": "markdown",
   "id": "e69d5a50-108e-4c0d-a0a0-c23e5c4b2607",
   "metadata": {},
   "source": [
    "or provide a range of indices to return multiple values, using the `:` syntax"
   ]
  },
  {
   "cell_type": "code",
   "execution_count": 102,
   "id": "8071410f-796a-40e1-a85d-8e7401284c8c",
   "metadata": {},
   "outputs": [
    {
     "data": {
      "text/html": [
       "<html><body><pre>ans = 1x2 double\n",
       "     4     5\n",
       "</pre></body></html>"
      ],
      "text/plain": [
       "ans = 1x2 double\n",
       "     4     5\n"
      ]
     },
     "execution_count": 102,
     "metadata": {},
     "output_type": "execute_result"
    }
   ],
   "source": [
    "a(2:3)"
   ]
  },
  {
   "cell_type": "markdown",
   "id": "f2a97a7b-7267-4f18-9ceb-3793b021d985",
   "metadata": {},
   "source": [
    "which will return all the values of `a` between index `2` and index `3`. \n",
    "\n",
    "We can create a column vector by designating new rows with `;`"
   ]
  },
  {
   "cell_type": "code",
   "execution_count": 104,
   "id": "b769b188-f0ad-461a-b4fc-3a7ad1134707",
   "metadata": {
    "editable": true,
    "slideshow": {
     "slide_type": ""
    },
    "tags": []
   },
   "outputs": [
    {
     "data": {
      "text/html": [
       "<html><body><pre>b = 3x1 double\n",
       "     6\n",
       "     7\n",
       "     8\n",
       "</pre></body></html>"
      ],
      "text/plain": [
       "b = 3x1 double\n",
       "     6\n",
       "     7\n",
       "     8\n"
      ]
     },
     "execution_count": 104,
     "metadata": {},
     "output_type": "execute_result"
    }
   ],
   "source": [
    "b = [6; 7; 8]"
   ]
  },
  {
   "cell_type": "markdown",
   "id": "fc25afec-3c15-4d78-a47a-48d05e855825",
   "metadata": {},
   "source": [
    "and, similarly, we can access individual elements using curved brackets"
   ]
  },
  {
   "cell_type": "code",
   "execution_count": 106,
   "id": "ca4c6b37-a4c7-413c-9b76-19c4eeaef8c9",
   "metadata": {},
   "outputs": [
    {
     "data": {
      "text/html": [
       "<html><body><pre>ans = 2x1 double\n",
       "     6\n",
       "     7\n",
       "</pre></body></html>"
      ],
      "text/plain": [
       "ans = 2x1 double\n",
       "     6\n",
       "     7\n"
      ]
     },
     "execution_count": 106,
     "metadata": {},
     "output_type": "execute_result"
    }
   ],
   "source": [
    "b(1:2)"
   ]
  },
  {
   "cell_type": "markdown",
   "id": "849f711e-c8d5-46f1-be3e-89487977b643",
   "metadata": {},
   "source": [
    "### Matrices\n",
    "A matrix is simply a collection of vectors. We can either think of a matrix as a collection of column-vectors, or as a collection of row-vectors. Either way, a matrix has multiple rows *and* multiple columns. For instance\n",
    "\n",
    "$$\n",
    "\\mathbf{A} = \n",
    "\\begin{bmatrix}\n",
    "1 & 2 & 3 \\\\\n",
    "4 & 5 & 6 \\\\\n",
    "\\end{bmatrix}\n",
    "$$\n",
    "\n",
    "is a $2 \\times 3$ matrix consisting of elements $a_{11} = 1$, $a_{12} = 2$ and so on. We can refer to any element generically as $a_{ij}$ for row $i$ and column $j$. Typically, matrices are written as upper-case **bold** letters, to distinguish them from vectors.\n",
    "\n",
    "In MATLAB, we declare matrices using square brackets and a combination of spaces and semi-colons. For example, we could declare $\\mathbf{A}$ using"
   ]
  },
  {
   "cell_type": "code",
   "execution_count": 108,
   "id": "675b44ed-dcca-413d-b5ec-29934fc88726",
   "metadata": {},
   "outputs": [
    {
     "data": {
      "text/html": [
       "<html><body><pre>A = 2x3 double\n",
       "     1     2     3\n",
       "     4     5     6\n",
       "</pre></body></html>"
      ],
      "text/plain": [
       "A = 2x3 double\n",
       "     1     2     3\n",
       "     4     5     6\n"
      ]
     },
     "execution_count": 108,
     "metadata": {},
     "output_type": "execute_result"
    }
   ],
   "source": [
    "A = [1 2 3; 4 5 6]"
   ]
  },
  {
   "cell_type": "markdown",
   "id": "e0198a03-6019-4d00-a356-ca58b2eaad19",
   "metadata": {},
   "source": [
    "We can also make this declaration look more like a matrix using the MATLAB line-continuation syntax"
   ]
  },
  {
   "cell_type": "code",
   "execution_count": 110,
   "id": "0fe3d608-cffa-40de-8e64-7ea927ad079a",
   "metadata": {
    "editable": true,
    "slideshow": {
     "slide_type": ""
    },
    "tags": []
   },
   "outputs": [],
   "source": [
    "A = [1 2 3; ...\n",
    "     4 5 6];"
   ]
  },
  {
   "cell_type": "markdown",
   "id": "42dc9c26-5e0a-4536-a656-51a1f805dd69",
   "metadata": {
    "editable": true,
    "slideshow": {
     "slide_type": ""
    },
    "tags": []
   },
   "source": [
    "## Matrix Operations\n",
    "Beyond being containers for collections of numbers, matrices and vectors are *mathematical objects*, that we can treat in similar fashion to regular numbers. As such, arithmetic operations such as addition or subtraction all have matrix equivalents. However, these equivalents may not be particularly intuitive, as we will see below.\n",
    "\n",
    "### Addition and Subtraction\n",
    "Starting with addition and subtraction, two matrices can be added or subtracted if they are the same dimensions. In this case, the operation is defined as the addition or subtraction of each individual element. For instance, for a matrix with $m$ rows and $n$ columns, we can write that\n",
    "\n",
    "$$\n",
    "\\mathbf{C} = \\mathbf{A} + \\mathbf{B} =\n",
    "\\begin{bmatrix}\n",
    "a_{11} + b_{11} & a_{12} + b_{12} & \\dots  & a_{1n} + b_{1n} \\\\\n",
    "a_{21} + b_{21} & a_{22} + b_{22} & \\dots  & a_{2n} + b_{2n} \\\\\n",
    "\\vdots          & \\vdots          & \\ddots & \\vdots          \\\\\n",
    "a_{m1} + b_{m1} & a_{m2} + b_{m2} & \\dots  & a_{mn} + b_{mn} \\\\\n",
    "\\end{bmatrix}\n",
    "$$\n",
    "\n",
    "where the ellipses ($\\dots$) just mean \"continue the pattern along this direction\". In this example, the row indices run from $i = 1,\\dots,m$ and the column indices run from $j = 1,\\dots,n$. We can see this in MATLAB"
   ]
  },
  {
   "cell_type": "code",
   "execution_count": 10,
   "id": "c874637d-06a2-4413-b0d8-f1d88f296ceb",
   "metadata": {},
   "outputs": [
    {
     "data": {
      "text/html": [
       "<html><body><pre>C = 2x3 double\n",
       "     3     5     7\n",
       "     9    11    13\n",
       "</pre></body></html>"
      ],
      "text/plain": [
       "C = 2x3 double\n",
       "     3     5     7\n",
       "     9    11    13\n"
      ]
     },
     "execution_count": 10,
     "metadata": {},
     "output_type": "execute_result"
    }
   ],
   "source": [
    "A = [1 2 3; 4 5 6];\n",
    "B = [2 3 4; 5 6 7];\n",
    "C = A + B"
   ]
  },
  {
   "cell_type": "markdown",
   "id": "f3794858-a203-4302-99ff-562882e21d4d",
   "metadata": {},
   "source": [
    "where the result `C` is the same as"
   ]
  },
  {
   "cell_type": "code",
   "execution_count": 13,
   "id": "41aef5f8-b29d-48a6-8dc3-15717630b9dc",
   "metadata": {},
   "outputs": [
    {
     "data": {
      "text/html": [
       "<html><body><pre>C = 2x3 double\n",
       "     3     5     7\n",
       "     9    11    13\n",
       "</pre></body></html>"
      ],
      "text/plain": [
       "C = 2x3 double\n",
       "     3     5     7\n",
       "     9    11    13\n"
      ]
     },
     "execution_count": 13,
     "metadata": {},
     "output_type": "execute_result"
    }
   ],
   "source": [
    "C = [1+2 2+3 3+4; 4+5 5+6 6+7]"
   ]
  },
  {
   "cell_type": "markdown",
   "id": "ad9cbbd6-190a-44ce-a954-db643ae25009",
   "metadata": {
    "editable": true,
    "slideshow": {
     "slide_type": ""
    },
    "tags": []
   },
   "source": [
    "Matrix subtraction works in much the same way, so we have\n",
    "\n",
    "$$\n",
    "\\mathbf{C} = \\mathbf{A} - \\mathbf{B}\n",
    "$$\n",
    "\n",
    "which, again, is only defined when $\\mathbf{A}$ and $\\mathbf{B}$ have the same dimensions. For instance"
   ]
  },
  {
   "cell_type": "code",
   "execution_count": 19,
   "id": "3807c149-ff9d-48f5-99bf-561a9be7ae30",
   "metadata": {},
   "outputs": [
    {
     "data": {
      "text/html": [
       "<html><body><pre>C = 2x3 double\n",
       "    -1     1     2\n",
       "    -2    -4    -4\n",
       "</pre></body></html>"
      ],
      "text/plain": [
       "C = 2x3 double\n",
       "    -1     1     2\n",
       "    -2    -4    -4\n"
      ]
     },
     "execution_count": 19,
     "metadata": {},
     "output_type": "execute_result"
    }
   ],
   "source": [
    "A = [1 4 6; 3 2 3];\n",
    "B = [2 3 4; 5 6 7];\n",
    "C = A - B"
   ]
  },
  {
   "cell_type": "markdown",
   "id": "b4ce3b3c-245d-42d3-ad2d-3ee7ea3ea555",
   "metadata": {},
   "source": [
    "If we try to add/subtract matrices of different dimensions MATLAB will throw an error"
   ]
  },
  {
   "cell_type": "code",
   "execution_count": 24,
   "id": "99bb5393-38e9-4ba0-b791-648d5c13e95d",
   "metadata": {},
   "outputs": [
    {
     "name": "stderr",
     "output_type": "stream",
     "text": [
      "Arrays have incompatible sizes for this operation."
     ]
    }
   ],
   "source": [
    "A = [1 3 4; 5 6 7; 8 9 6];\n",
    "B = [1 3; 6 5];\n",
    "C = A + B"
   ]
  },
  {
   "cell_type": "markdown",
   "id": "9eef2c14-c071-4d17-9bac-2194eb1226bf",
   "metadata": {},
   "source": [
    "Formally, we say that addition or subtraction is *undefined* for matrices of different dimensions. Thus, we can see that the rules that govern what we can and cannot do with matrices are stricter than we may be used to with regular numbers. "
   ]
  },
  {
   "cell_type": "markdown",
   "id": "eaf3a81d-f760-45cf-a107-524fb1e3b67b",
   "metadata": {
    "editable": true,
    "slideshow": {
     "slide_type": ""
    },
    "tags": []
   },
   "source": [
    "### Multiplication\n",
    "Multiplication of matrices is also possible, however, this is a more complex operation than addition/subtraction. To begin with, multiplying a matrix by a single number simply *scales* the matrix by that amount. As such, in the world of linear algebra, single numbers are often called *scalars*. For instance"
   ]
  },
  {
   "cell_type": "code",
   "execution_count": 29,
   "id": "cf0ca1b9-ba4f-4936-ae68-7b40d08fd569",
   "metadata": {},
   "outputs": [
    {
     "data": {
      "text/html": [
       "<html><body><pre>B = 2x3 double\n",
       "     2     4     6\n",
       "     8    10    12\n",
       "</pre></body></html>"
      ],
      "text/plain": [
       "B = 2x3 double\n",
       "     2     4     6\n",
       "     8    10    12\n"
      ]
     },
     "execution_count": 29,
     "metadata": {},
     "output_type": "execute_result"
    }
   ],
   "source": [
    "A = [1 2 3; 4 5 6];\n",
    "B = 2 * A"
   ]
  },
  {
   "cell_type": "markdown",
   "id": "a71124cc-e794-4a8d-bea7-900924f69689",
   "metadata": {},
   "source": [
    "Unfortunately, that is where the simplicity ends. Let us consider the case of multiplying two matrices. For example\n",
    "\n",
    "$$\n",
    "\\mathbf{A} = \n",
    "\\begin{bmatrix}\n",
    "    1 & 2 & 3 \\\\\n",
    "    4 & 5 & 6\n",
    "\\end{bmatrix} \\quad\n",
    "\\mathbf{B} = \n",
    "\\begin{bmatrix}\n",
    "    7  & 8  \\\\\n",
    "    9  & 10 \\\\\n",
    "    11 & 12\n",
    "\\end{bmatrix}\n",
    "$$\n",
    "\n",
    "You may notice that these are different dimensions, which is something that will be explained soon. To begin with, let us see what MATLAB tells us $\\mathbf{A} \\times \\mathbf{B}$ is"
   ]
  },
  {
   "cell_type": "code",
   "execution_count": 33,
   "id": "b6815fb3-cc6d-4f35-a23a-ca1fb3f13301",
   "metadata": {},
   "outputs": [
    {
     "data": {
      "text/html": [
       "<html><body><pre>C = 2x2 double\n",
       "    58    64\n",
       "   139   154\n",
       "</pre></body></html>"
      ],
      "text/plain": [
       "C = 2x2 double\n",
       "    58    64\n",
       "   139   154\n"
      ]
     },
     "execution_count": 33,
     "metadata": {},
     "output_type": "execute_result"
    }
   ],
   "source": [
    "A = [1 2 3; 4 5 6];\n",
    "B = [7 8; 9 10; 11 12];\n",
    "C = A*B"
   ]
  },
  {
   "cell_type": "markdown",
   "id": "12e61da1-5d5a-403d-8824-8b5cc1b25e2b",
   "metadata": {
    "editable": true,
    "slideshow": {
     "slide_type": ""
    },
    "tags": []
   },
   "source": [
    "You might want to take a moment to ponder this result and see if you can work out how MATLAB got there.\n",
    "\n",
    "To see how this multiplication works, start with the first *row* of $\\mathbf{A}$ and the first *column* of $\\mathbf{B}$. Each element in the row must be multiplied by each element in the column and then added together. In this example, we do $(1 \\times 7) + (2 \\times 9) + (3 \\times 11) = 58$. This sum then becomes the result for the first element of the new matrix\n",
    "\n",
    "$$\n",
    "\\begin{bmatrix}\n",
    "    1           & 2           & 3           \\\\\n",
    "    \\phantom{4} & \\phantom{5} & \\phantom{6} \\\\\n",
    "\\end{bmatrix} \\times\n",
    "\\begin{bmatrix}\n",
    "    7  & \\phantom{8}  \\\\\n",
    "    9  & \\phantom{10} \\\\\n",
    "    11 & \\phantom{12} \\\\\n",
    "\\end{bmatrix} =\n",
    "\\begin{bmatrix}\n",
    "    58            & \\phantom{64}  \\\\\n",
    "    \\phantom{139} & \\phantom{154} \\\\\n",
    "\\end{bmatrix}.\n",
    "$$\n",
    "\n",
    "We then do the same thing with the first *row* of $\\mathbf{A}$ and the second *column* of $\\mathbf{B}$ \n",
    "\n",
    "$$\n",
    "\\begin{bmatrix}\n",
    "    1           & 2           & 3           \\\\\n",
    "    \\phantom{4} & \\phantom{5} & \\phantom{6} \\\\\n",
    "\\end{bmatrix} \\times\n",
    "\\begin{bmatrix}\n",
    "    \\phantom{7}  & 8  \\\\\n",
    "    \\phantom{9}  & 10 \\\\\n",
    "    \\phantom{11} & 12 \\\\\n",
    "\\end{bmatrix} =\n",
    "\\begin{bmatrix}\n",
    "    58            & 64  \\\\\n",
    "    \\phantom{139} & \\phantom{154} \\\\\n",
    "\\end{bmatrix},\n",
    "$$\n",
    "\n",
    "then the second *row* of $\\mathbf{A}$ and the first *column* of $\\mathbf{B}$ \n",
    "\n",
    "$$\n",
    "\\begin{bmatrix}\n",
    "    \\phantom{1} & \\phantom{2} & \\phantom{3} \\\\\n",
    "    4           & 5           & 6 \\\\\n",
    "\\end{bmatrix} \\times\n",
    "\\begin{bmatrix}\n",
    "    7  & \\phantom{8}  \\\\\n",
    "    9  & \\phantom{10} \\\\\n",
    "    11 & \\phantom{12} \\\\\n",
    "\\end{bmatrix} =\n",
    "\\begin{bmatrix}\n",
    "    58  & 64  \\\\\n",
    "    139 & \\phantom{154} \\\\\n",
    "\\end{bmatrix}.\n",
    "$$\n",
    "\n",
    "Finally, we do the second *row* of $\\mathbf{A}$ and the second *column* of $\\mathbf{B}$ \n",
    "\n",
    "$$\n",
    "\\begin{bmatrix}\n",
    "    \\phantom{1} & \\phantom{2} & \\phantom{3} \\\\\n",
    "    4           & 5           & 6 \\\\\n",
    "\\end{bmatrix} \\times\n",
    "\\begin{bmatrix}\n",
    "    \\phantom{7}  & 8  \\\\\n",
    "    \\phantom{9}  & 10 \\\\\n",
    "    \\phantom{11} & 12 \\\\\n",
    "\\end{bmatrix} =\n",
    "\\begin{bmatrix}\n",
    "    58  & 64  \\\\\n",
    "    139 & 154 \\\\\n",
    "\\end{bmatrix}.\n",
    "$$\n",
    "\n",
    "If this is the first time you have come across matrix multiplication, this will seem very strange. For a deeper explanation of why this is the case, have a look at the info box below. However, the important thing to know from a practical perspective is that matrix-matrix, matrix-vector, vector-matrix and vector-vector multiplication are only defined when the number of *columns* in $\\mathbf{A}$ matches the number of *rows* in $\\mathbf{B}$. In addition, the resultant matrix will always have the same number of *rows* as $\\mathbf{A}$ and the same number of *columns* as $\\mathbf{B}$."
   ]
  },
  {
   "cell_type": "markdown",
   "id": "0442f76d-721e-4d22-bba9-0797dd64e473",
   "metadata": {},
   "source": [
    "```{admonition} Advanced: Why is Matrix Multiplication So Strange?\n",
    ":class: dropdown\n",
    "\n",
    "To understand why matrix multiplication has the definition that it does, we need to first understand that linear algebra is all about *linear equations*. A linear equation is simply an equation where some numbers are multiplied by other numbers and then added together to form a weighted-sum. For example, the equation below is a linear equation\n",
    "\n",
    "$$\n",
    "y = a_{1}x_{1} + a_{2}x_{2} + b\n",
    "$$\n",
    "\n",
    "where there are two *variables* ($x_{1}$ and $x_{2}$) and three *coefficients* ($a_{1}$, $a_{2}$ and $b$). Each variable is multiplied by its respective coefficient and then everything is added together to form the value of y. The important point here is that the variables can take on any value (hence they can *vary*), whereas the coefficients are usually fixed.\n",
    "\n",
    "Linear equations are incredibly useful in many branches of science for describing real-world phenomena. Often *multiple* equations are needed to model complex phenomena, which is known as a *system* of linear equations. These equations share the same coefficients, but have different values for the variables. For example, take the following system of 3 equations\n",
    "\n",
    "$$\n",
    "y_{1} &= a_{1}x_{11} + a_{2}x_{12} + b \\\\\n",
    "y_{2} &= a_{1}x_{21} + a_{2}x_{22} + b \\\\\n",
    "y_{3} &= a_{1}x_{31} + a_{2}x_{32} + b\n",
    "$$\n",
    "\n",
    "Notice here that each equation has different $x$ values (indicated by the different indices), but the same $a$ and $b$ values. The point of matrices is that they allow this system to be represented compactly *and* provides methods for solving for $a$ and $b$. To see this, we can write the system as\n",
    "\n",
    "$$\n",
    "\\begin{bmatrix}\n",
    "y_{1} \\\\\n",
    "y_{2} \\\\\n",
    "y_{3}\n",
    "\\end{bmatrix}\n",
    "=\n",
    "\\begin{bmatrix}\n",
    "x_{11} & x_{12} & 1 \\\\\n",
    "x_{21} & x_{22} & 1 \\\\\n",
    "x_{31} & x_{32} & 1 \\\\\n",
    "\\end{bmatrix}\n",
    "\\begin{bmatrix}\n",
    "a_{1} \\\\\n",
    "a_{2} \\\\\n",
    "b\n",
    "\\end{bmatrix},\n",
    "$$\n",
    "\n",
    "which can be expressed simply as\n",
    "\n",
    "$$\n",
    "\\mathbf{y} = \\mathbf{X}\\mathbf{a}.\n",
    "$$\n",
    "\n",
    "If we use the definition of matrix multiplication, notice that this recreates the linear equations that define the system. For instance, the first row of $\\mathbf{X}$ gives\n",
    "\n",
    "$$\n",
    "\\begin{bmatrix}\n",
    "x_{11}           & x_{12}           & 1           \\\\\n",
    "\\phantom{x_{21}} & \\phantom{x_{22}} & \\phantom{1} \\\\\n",
    "\\phantom{x_{31}} & \\phantom{x_{32}} & \\phantom{1} \\\\\n",
    "\\end{bmatrix}\n",
    "\\begin{bmatrix}\n",
    "a_{1} \\\\\n",
    "a_{2} \\\\\n",
    "b\n",
    "\\end{bmatrix} = \n",
    "\\begin{bmatrix}\n",
    "x_{11}a_{1} + x_{12}a_{2} + b \\\\\n",
    "\\phantom{} \\\\\n",
    "\\phantom{}\n",
    "\\end{bmatrix}.\n",
    "$$\n",
    "\n",
    "You can try this yourself for the remaining two rows. The important point here is that this only works because the rules of matrix multiplication make it work. So, the only way for a system of linear equations to be represented in matrices is by having a more convoluted definition of how multiplication works.\n",
    "\n",
    "```"
   ]
  },
  {
   "cell_type": "markdown",
   "id": "e0cc3bfc-2883-4614-bb6e-301e1d5893f5",
   "metadata": {
    "editable": true,
    "slideshow": {
     "slide_type": ""
    },
    "tags": []
   },
   "source": [
    "### Transposition\n",
    "As we have seen above, the dimensions of a matrix or vector are very important for determining when matrix multiplication can be performed. In practise, this means that the dimensions of matrices may need to be manipulated. One common approach is an operation called *transposition*, where the rows and the columns of a matrix are swapped. The notation for this is either $\\mathbf{M}^{\\prime}$ or $\\mathbf{M}^{T}$ . So that if\n",
    "\n",
    "$$\n",
    "\\mathbf{M} = \n",
    "\\begin{bmatrix}\n",
    "1 & 2 \\\\\n",
    "3 & 4 \\\\\n",
    "5 & 6\n",
    "\\end{bmatrix},\n",
    "$$\n",
    "\n",
    "the transpose would be\n",
    "\n",
    "$$\n",
    "\\mathbf{M}^{\\prime} = \n",
    "\\begin{bmatrix}\n",
    "1 & 3 & 5 \\\\\n",
    "2 & 4 & 6\n",
    "\\end{bmatrix}.\n",
    "$$\n",
    "\n",
    "You can do this in MATLAB using the `'` symbol"
   ]
  },
  {
   "cell_type": "code",
   "execution_count": 62,
   "id": "2c67ac1c-65c1-49cd-b9dd-de0aa1fd3174",
   "metadata": {},
   "outputs": [
    {
     "data": {
      "text/html": [
       "<html><body><pre>M = 3x2 double\n",
       "     1     2\n",
       "     3     4\n",
       "     5     6\n",
       "</pre></body></html>"
      ],
      "text/plain": [
       "M = 3x2 double\n",
       "     1     2\n",
       "     3     4\n",
       "     5     6\n"
      ]
     },
     "execution_count": 62,
     "metadata": {},
     "output_type": "execute_result"
    }
   ],
   "source": [
    "M = [1 2; 3 4; 5 6]"
   ]
  },
  {
   "cell_type": "code",
   "execution_count": 64,
   "id": "62d30a3e-4495-4510-80d8-ae82b27e7783",
   "metadata": {},
   "outputs": [
    {
     "data": {
      "text/html": [
       "<html><body><pre>ans = 2x3 double\n",
       "     1     3     5\n",
       "     2     4     6\n",
       "</pre></body></html>"
      ],
      "text/plain": [
       "ans = 2x3 double\n",
       "     1     3     5\n",
       "     2     4     6\n"
      ]
     },
     "execution_count": 64,
     "metadata": {},
     "output_type": "execute_result"
    }
   ],
   "source": [
    "M'"
   ]
  },
  {
   "cell_type": "markdown",
   "id": "a9d2a8b6-504b-4ce5-bd51-5d8e409347fb",
   "metadata": {
    "editable": true,
    "slideshow": {
     "slide_type": ""
    },
    "tags": []
   },
   "source": [
    "### Division\n",
    "We have now covered matrix addition, subtraction and multiplication. So what about matrix division? Unfortunately, this is where things get complicated again. To start with, let us review a particular way of viewing division of normal numbers. As we should all know, division is simply splitting a number into equal parts. However, we can also view this as a *multiplication*. Specifically, multiplication by the *inverse* of another number. For instance\n",
    "\n",
    "$$\n",
    "10 \\times \\frac{1}{2} = 5\n",
    "$$\n",
    "\n",
    "because\n",
    "\n",
    "$$\n",
    "10 \\times \\frac{1}{2} = \\frac{10}{1} \\times \\frac{1}{2} = \\frac{10}{2} = 5.\n",
    "$$\n",
    "\n",
    "This is known as the *multiplicative inverse* of a number. Formally, the inverse is whatever number can be multiplied by the original number to make 1. For instance, the multiplicative inverse of 2 is $\\sfrac{1}{2}$ because $2 \\times \\sfrac{1}{2} = 1$. This is written as\n",
    "\n",
    "$$\n",
    "2^{-1} = \\frac{1}{2}\n",
    "$$\n",
    "\n",
    "This is important because there is no definition of division for matrices. However, we know there is multiplication. As such, we perform division by multiplying one matrix by the *inverse* of another.\n",
    "\n",
    "A special matrix is the *identity* matrix."
   ]
  },
  {
   "cell_type": "markdown",
   "id": "836558b5-4285-4f0b-a49f-93f81dfbfc1f",
   "metadata": {
    "editable": true,
    "slideshow": {
     "slide_type": ""
    },
    "tags": []
   },
   "source": [
    "## Some Additional Programming Concepts\n",
    "\n",
    "### Scripts\n",
    "\n",
    "### Functions\n",
    "Beyond just writing code within a separate script, we can further containerise MATLAB code by creating a *function*. This is important because SPM is effectively just hundreds of MATLAB functions that can be called in different ways to process and analyse images."
   ]
  },
  {
   "cell_type": "markdown",
   "id": "cb3c102c-40ce-47fa-b765-a05b7e27a786",
   "metadata": {
    "editable": true,
    "slideshow": {
     "slide_type": ""
    },
    "tags": []
   },
   "source": [
    "## Summary\n",
    "In this lesson, we have treated MATLAB as simply a means of understanding some basic concepts in linear algebra. However, MATLAB is really a fully-fledged programming language. We have not touched any programming concepts beyond simply variable assignment, however, if you want to make the most of MATLAB as a tool then you will need to learn to use it as a programming language. Although not an essential part of this course, this would be a skill that will come in very handy in Semester 2, as well as in your dissertation project work. There are many resources available to learn to programme in MATLAB and we would encourage everyone to try and go through them as part of the additional reading throughout this course. Some resources we recommend are:\n",
    "\n",
    "-\n",
    "-\n",
    "-"
   ]
  },
  {
   "cell_type": "markdown",
   "id": "b739451b-90df-4214-9ae1-10e1d85c8c41",
   "metadata": {
    "tags": []
   },
   "source": [
    "## Variables\n",
    "The most basic element of any programming language is the ability to store things in memory for later use. We do this by using a variable, which you can think of as a box with a name that we put something inside to keep for later. As an example, the code below shows the declaration of a variable called a and assigning it the number 5."
   ]
  },
  {
   "cell_type": "code",
   "execution_count": 4,
   "id": "3626d968-1bb5-4e0f-a7a6-f6338a6791f6",
   "metadata": {
    "tags": []
   },
   "outputs": [],
   "source": [
    "a = 5;"
   ]
  },
  {
   "cell_type": "markdown",
   "id": "3c572e4c-db48-47c5-a3fc-f9c6c98e28c7",
   "metadata": {},
   "source": [
    "This is like having a box called a that contains the number 5. Now, every time we type a, MATLAB will replace it with the number 5. This means we can do the following"
   ]
  },
  {
   "cell_type": "code",
   "execution_count": 5,
   "id": "8290fd80-1aba-49b5-8b81-7cc3590a25cf",
   "metadata": {
    "tags": []
   },
   "outputs": [
    {
     "data": {
      "text/html": [
       "<html><body><pre>ans = 12</pre></body></html>"
      ],
      "text/plain": [
       "ans = 12"
      ]
     },
     "execution_count": 5,
     "metadata": {},
     "output_type": "execute_result"
    }
   ],
   "source": [
    "a + 7"
   ]
  },
  {
   "cell_type": "markdown",
   "id": "774eb49b-d279-43af-a119-f07d8b6961c4",
   "metadata": {},
   "source": [
    "Similarly, we could declare another variable with a different name."
   ]
  },
  {
   "cell_type": "code",
   "execution_count": 6,
   "id": "e7bb993f-1fc1-40c5-b4c3-86de51c492d1",
   "metadata": {
    "tags": []
   },
   "outputs": [],
   "source": [
    "b = 10;"
   ]
  },
  {
   "cell_type": "markdown",
   "id": "ae29a1d0-b023-4eaa-9cc5-1af990f42bcf",
   "metadata": {},
   "source": [
    "and then add the variables together"
   ]
  },
  {
   "cell_type": "code",
   "execution_count": 7,
   "id": "38319038-013e-4322-83f0-449a079d4988",
   "metadata": {
    "tags": []
   },
   "outputs": [
    {
     "data": {
      "text/html": [
       "<html><body><pre>ans = 15</pre></body></html>"
      ],
      "text/plain": [
       "ans = 15"
      ]
     },
     "execution_count": 7,
     "metadata": {},
     "output_type": "execute_result"
    }
   ],
   "source": [
    "a + b"
   ]
  },
  {
   "cell_type": "markdown",
   "id": "6a5f39d2-23c8-4898-bad8-fa53384fbc42",
   "metadata": {},
   "source": [
    "Although these examples have used numbers, variables can hold any data type that MATLAB recognises. For instance, one of the most useful data types we can save to a variable is text"
   ]
  },
  {
   "cell_type": "code",
   "execution_count": 8,
   "id": "27eef7b1-e476-4419-813e-45e53e53c682",
   "metadata": {
    "tags": []
   },
   "outputs": [],
   "source": [
    "hello_text = 'hello';"
   ]
  },
  {
   "cell_type": "markdown",
   "id": "b9f69261-be45-4c02-9a87-2f37e7d50c79",
   "metadata": {},
   "source": [
    "which we could use to store a file path or file name, for instance.\n",
    "\n",
    "There are a few rules you have to adhere to when naming variables. A variable name cannot start with a number, it cannot contain spaces and the only special character you can use is an underscore. You also need to be aware that MATLAB is case-sensitive, meaning that `hello_text` and `HELLO_TEXT` will be interpreted as different variables. In addition, remember that a variable can only hold one thing at a time and if you re-assign a variable then the original value will be lost.\n",
    "\n",
    "## Scripts\n",
    "Typically, if we are writing code to complete some task we will not enter it line-by-line at the MATLAB prompt. Instead, we will write the steps inside a script. You can think of a script as a recipe that we write in code inside a text file. It has multiple steps that are written on different lines that MATLAB will execute one at a time. These scripts can be saved so they can be re-used, or used as templates for other scripts in the future. Indeed, writing scripts is one of the best ways of leaving a paper trail for your analysis, to fully document what you did to the data.\n",
    "\n",
    "In order to start writing a script click the New Script icon in the MATLAB toolbar to open the blank script editor. We can now enter all our code in this new window. When we want to run it, we save the file and then click the big green Run button in the toolbar. Usefully, we can also include comments in a script. These are pieces of text that MATLAB will ignore, but serve as notes for our future selves. You can include a comment in a script by typing the percentage symbol, followed by whatever text you like. These will be coloured green to make the comments obvious. For example"
   ]
  },
  {
   "cell_type": "code",
   "execution_count": 9,
   "id": "18928adc-cbea-41dd-a5a1-e1614be55f75",
   "metadata": {
    "tags": []
   },
   "outputs": [],
   "source": [
    "% This is a comment\n",
    "a = 5;\n",
    "\n",
    "% This is another comment. It will be ignored by MATLAB when the script is executed.\n",
    "b = 10;\n",
    "\n",
    "% Comments can be used to describe what code is doing. For instance, add a to b and save to c.\n",
    "c = a + b;"
   ]
  },
  {
   "cell_type": "markdown",
   "id": "9b547eec-2d69-49e5-a275-ffe7cfd65401",
   "metadata": {},
   "source": [
    "## Control Flow\n",
    "In the process of writing a script, we may need to decide whether to run code based on some criteria. Alternatively, we may need to repeat a chunk of code a certain number of times. Both of these tasks are examples of control flow where we dictate a more complex path for the code to follow (rather than just running line-by-line). We can break the main types of control flow down into if-statements and for-loops.\n",
    "\n",
    "### If-statement\n",
    "An if-statement allows us to make a choice about whether some code is run or not. This is intimately tied to the ideas of variables. Because we do not necessarily know what value a variable will have when we run some code, we may want to check what the value is and then decide what we want to do. An if-statement allows us to ask a question and then decide whether to run some code or not, depending on the answer. This question has to either be true or false, so we can only ask things like \"is this variable larger than 5\". We can then decide what we want MATLAB to do if the question is true and what we want MATLAB to do if the question is false.\n",
    "\n",
    "An if-statement has the following structure"
   ]
  },
  {
   "cell_type": "code",
   "execution_count": 10,
   "id": "5e5007ef-c80f-4a13-b31c-c9d15f63c0b2",
   "metadata": {
    "tags": []
   },
   "outputs": [],
   "source": [
    "if % Ask question\n",
    "    % What to do if question is true\n",
    "else\n",
    "    % What to do if question is false\n",
    "end"
   ]
  },
  {
   "cell_type": "markdown",
   "id": "1e836672-78d9-4b8e-9a9d-46ec83db5814",
   "metadata": {},
   "source": [
    "So, for example, if we wanted to set some text to be different if the variable a was larger than 5 compared to if it is smaller than (or equal) to 5, we could write"
   ]
  },
  {
   "cell_type": "code",
   "execution_count": 11,
   "id": "e796b7c7-a0b1-4e3c-a402-ccb88e373351",
   "metadata": {
    "tags": []
   },
   "outputs": [
    {
     "name": "stdout",
     "output_type": "stream",
     "text": [
      "The number you typed is greater than 5\n"
     ]
    }
   ],
   "source": [
    "number  = 20;\n",
    "message = '';\n",
    "\n",
    "if number > 5\n",
    "    message = 'The number you typed is greater than 5';\n",
    "else\n",
    "    message = 'The number you typed is is less than (or equal) to 5';\n",
    "end\n",
    "\n",
    "disp(message);"
   ]
  },
  {
   "cell_type": "markdown",
   "id": "470bf3e3-a09f-4207-8f0f-3673069da33a",
   "metadata": {},
   "source": [
    "When this script is run, you will be prompted to type in a number and then you will see a message about whether the number was greater than 5 or not. Not exactly Nobel prize stuff, but hopefully the use of the if-statement is clear.\n",
    "\n",
    "We can also place an if-statement inside another if-statement to make different choices if the original question is true. This is known as nesting statements."
   ]
  },
  {
   "cell_type": "code",
   "execution_count": 15,
   "id": "c678b9bf-0e19-41a3-876a-fe160ef4b062",
   "metadata": {
    "tags": []
   },
   "outputs": [
    {
     "name": "stdout",
     "output_type": "stream",
     "text": [
      "The number you typed was 5\n"
     ]
    }
   ],
   "source": [
    "number  = 5;\n",
    "message = '';\n",
    "\n",
    "if number >= 5\n",
    "    if number == 5\n",
    "        message = 'The number you typed was 5';\n",
    "    else\n",
    "        message = 'The number you typed was greater than 5';\n",
    "    end\n",
    "else\n",
    "    message = 'The number you typed was less than 5';\n",
    "end\n",
    "\n",
    "disp(message);"
   ]
  },
  {
   "cell_type": "markdown",
   "id": "e7b36fc9-065b-4e19-99a9-754f5153f031",
   "metadata": {},
   "source": [
    "`````{admonition} Tip\n",
    ":class: tip\n",
    "In all of these examples, the symbols `>`, `>=` and `==` are examples of *relational operators* that allow the comparison of variables in different ways. You can read about the operations that MATLAB supports in the [documentation](https://uk.mathworks.com/help/matlab/relational-operators.html).\n",
    "`````\n",
    "\n",
    "### For-loops\n",
    "Beyond checking variable values, we often want to repeat some code a certain number of times in a script. For instance, we may want to copy multiple files, or run some image processing on multiple images. In both cases we want MATLAB to repeat the same set of steps multiple times, but with a different input. For this purpose, all programming languages contain the concept of loops, which allow us to write a set of steps once and then ask the computer to repeat those steps as many times as we want.\n",
    "\n",
    "The main type of loop we use is known as a for-loop, which has the following structure"
   ]
  },
  {
   "cell_type": "code",
   "execution_count": 16,
   "id": "27e5b517-ee4d-4423-8950-d0ecd3eb3681",
   "metadata": {
    "tags": []
   },
   "outputs": [],
   "source": [
    "for index_variable = start_value:end_value\n",
    "    % What to do on each iteration\n",
    "end"
   ]
  },
  {
   "cell_type": "markdown",
   "id": "5e0de224-b09c-4638-a435-bd97494472c8",
   "metadata": {},
   "source": [
    "and could be used to sum all the number from 1 to 10"
   ]
  },
  {
   "cell_type": "code",
   "execution_count": 17,
   "id": "28365ae1-f414-4c95-bfdd-3a25c861fc90",
   "metadata": {
    "tags": []
   },
   "outputs": [
    {
     "name": "stdout",
     "output_type": "stream",
     "text": [
      "    55\n",
      "\n"
     ]
    }
   ],
   "source": [
    "number = 10;\n",
    "sum    = 0;\n",
    "\n",
    "for i = 1:number\n",
    "    sum = sum + i;\n",
    "end\n",
    "\n",
    "disp(sum)"
   ]
  },
  {
   "cell_type": "markdown",
   "id": "838217e8-6c60-4953-9497-c720fa86acae",
   "metadata": {},
   "source": [
    "An important part of the for-loop is the index variable which tells us the current iteration of the loop. In the example above, the index variable is called i. We asked MATLAB to start i with a value of 1 and then continue adding 1 until it reached the value of number, at which point the loop will exit. This is all given in the syntax for i = 1:number. On the first iteration of the loop, i will have a value of 1, on the second iteration i will have a value of 2 and so on. The utility of this is that we can use i inside the loop to know which iteration is currently running. In the example above, we used this to add the current number onto the previous sum, but the real utility of this is that we can use i to select different variables for each iteration of the loop. For instance, if we had a list of images we wanted to process we can use a for-loop and then use the index variable to select the correct image on each iteration. \n",
    "\n",
    "For-loops can also be nested, which we will see quite often because these allow us to loop over 2D and 3D structures. For instance, if we wanted to access every voxel of a 3D image we could use three nested for-loops that move over the rows, columns and slices of an image"
   ]
  },
  {
   "cell_type": "code",
   "execution_count": 18,
   "id": "41881436-a0c9-4159-a67b-62411cab4259",
   "metadata": {
    "tags": []
   },
   "outputs": [],
   "source": [
    "image_rows = 100;\n",
    "image_cols = 100;\n",
    "image_slcs = 100;\n",
    "\n",
    "for i = 1:image_rows\n",
    "    for j = 1:image_cols\n",
    "        for k = 1:image_slcs\n",
    "            % Do something with the voxel at row i column j slice k\n",
    "        end\n",
    "    end\n",
    "end"
   ]
  },
  {
   "cell_type": "markdown",
   "id": "921e9a63-561e-4d19-a676-a4ac4964f249",
   "metadata": {},
   "source": [
    "## Data Structures\n",
    "We have now seen how we can use variables and control flow to build basic scripts. However, one limitation of what we have so far is that if we want to access and process many values within the script we would need to assign each to a different variable with a different name. For instance, if we have 100 values we wanted access to, it would be incredibly tedious to assign each one to a separate variable. In these instances, we can make use of various data structures in MATLAB that allow us to assign multiple values to the same variable.\n",
    "\n",
    "### Matrix"
   ]
  },
  {
   "cell_type": "markdown",
   "id": "f160fc60-2756-4e96-8922-a60c30db6117",
   "metadata": {},
   "source": [
    "The most basic form of data structure in MATLAB is a matrix. We will talk about the mathematical interpretation of a matrix in the next section, but for now we can just treat it as a container for numbers that has a certain number of rows and a certain number of columns (like a spreadsheet or a table). You specify a matrix in MATLAB using square brackets, where a space indicates a new column and a semi-colon indicates a new row. For example, the following code"
   ]
  },
  {
   "cell_type": "code",
   "execution_count": 19,
   "id": "2e9dd09d-0a64-4324-98e2-188d5e91bf50",
   "metadata": {
    "tags": []
   },
   "outputs": [
    {
     "data": {
      "text/html": [
       "<html><body><pre>A = 2x3 double\n",
       "     1     2     3\n",
       "     4     5     6\n",
       "</pre></body></html>"
      ],
      "text/plain": [
       "A = 2x3 double\n",
       "     1     2     3\n",
       "     4     5     6\n"
      ]
     },
     "execution_count": 19,
     "metadata": {},
     "output_type": "execute_result"
    }
   ],
   "source": [
    "A = [1 2 3; 4 5 6]"
   ]
  },
  {
   "cell_type": "markdown",
   "id": "c0726001-a72f-4b42-8fda-6d599d210124",
   "metadata": {},
   "source": [
    "specifies a matrix called A that has 2 rows, 3 columns and contains the numbers 1-6.\n",
    "\n",
    "Accessing the individual elements of a matrix requires indexing. We use curved brackets after the variable name and then indicate which row and column we want, separated by commas. For example, to access the number 2 we would use the following code to indicate that we want row 1 and column 2"
   ]
  },
  {
   "cell_type": "code",
   "execution_count": 20,
   "id": "462fbeaf-dd7d-46c1-848a-5f31c79b5efc",
   "metadata": {
    "tags": []
   },
   "outputs": [
    {
     "data": {
      "text/html": [
       "<html><body><pre>ans = 2</pre></body></html>"
      ],
      "text/plain": [
       "ans = 2"
      ]
     },
     "execution_count": 20,
     "metadata": {},
     "output_type": "execute_result"
    }
   ],
   "source": [
    "A(1,2)"
   ]
  },
  {
   "cell_type": "markdown",
   "id": "70e7cd91-51b1-42be-be76-4b52362f7af4",
   "metadata": {},
   "source": [
    "The utility of the for-loop is hopefully a bit clearer now, as we can use it to access all the elements inside a matrix using the index variables"
   ]
  },
  {
   "cell_type": "code",
   "execution_count": 21,
   "id": "0b6404e6-e1fb-463c-b86a-1b8111ee1a63",
   "metadata": {
    "tags": []
   },
   "outputs": [
    {
     "name": "stdout",
     "output_type": "stream",
     "text": [
      "     1\n",
      "\n",
      "     2\n",
      "\n",
      "     3\n",
      "\n",
      "     4\n",
      "\n",
      "     5\n",
      "\n",
      "     6\n",
      "\n"
     ]
    }
   ],
   "source": [
    "for i = 1:size(A,1)\n",
    "    for j = 1:size(A,2)\n",
    "        number = A(i,j);\n",
    "        disp(number);\n",
    "    end\n",
    "end"
   ]
  },
  {
   "cell_type": "markdown",
   "id": "5c5a246b-9352-4c38-9a56-06e16f9d34b0",
   "metadata": {},
   "source": [
    "where `size(A,1)` tells you how many rows `A` has, `size(A,2)` tells you how many columns `A` has and the `disp()` function tells MATLAB to print the number at the prompt.\n",
    "\n",
    "### Character Array\n",
    "\n",
    "Beyond numbers, we may also want to store text in some sort of data structure. This is where the character array comes in. We actually saw a character array earlier when we specified the `hello_text` variable. Rather than being a variable with a single value, what was returned was actually a character array with 1 row and as many columns as letters. So a character array is really the same as a matrix, but the rows and columns refer to letters instead of numbers. A limitation to this approach, however, is that if you want multiple rows there needs to be the same number of characters in each row."
   ]
  },
  {
   "cell_type": "code",
   "execution_count": 22,
   "id": "93cbe82f-56c0-47df-b12e-6fd889ef6b34",
   "metadata": {
    "tags": []
   },
   "outputs": [
    {
     "data": {
      "text/html": [
       "<html><body><pre>a = 2x23 char array\n",
       "    'hello this is some text'\n",
       "    'hello this is more text'\n",
       "</pre></body></html>"
      ],
      "text/plain": [
       "a = 2x23 char array\n",
       "    'hello this is some text'\n",
       "    'hello this is more text'\n"
      ]
     },
     "execution_count": 22,
     "metadata": {},
     "output_type": "execute_result"
    }
   ],
   "source": [
    "a = ['hello this is some text'; 'hello this is more text']"
   ]
  },
  {
   "cell_type": "markdown",
   "id": "ecd77d0c-201c-4783-bedb-9876a83884d2",
   "metadata": {},
   "source": [
    "Alternatively, you have to pad the rows with spaces to make up the difference."
   ]
  },
  {
   "cell_type": "code",
   "execution_count": 23,
   "id": "11a1df09-0afd-4a1b-9abf-74931bde9257",
   "metadata": {
    "tags": []
   },
   "outputs": [
    {
     "data": {
      "text/html": [
       "<html><body><pre>a = 2x23 char array\n",
       "    'hello this is some text'\n",
       "    'hello this is padding  '\n",
       "</pre></body></html>"
      ],
      "text/plain": [
       "a = 2x23 char array\n",
       "    'hello this is some text'\n",
       "    'hello this is padding  '\n"
      ]
     },
     "execution_count": 23,
     "metadata": {},
     "output_type": "execute_result"
    }
   ],
   "source": [
    "a = ['hello this is some text'; 'hello this is padding  ']"
   ]
  },
  {
   "cell_type": "markdown",
   "id": "5b64dba8-1344-426f-a0c0-37bbc2f563bf",
   "metadata": {},
   "source": [
    "### Cell Array\n",
    "The fact that a matrix and a character array behave so similarly is a testament to the MATLAB design principles of treating everything generically like a matrix. The issue with this is that a matrix and a character array can only contain one type of data. This means you need to have multiple variables if you want to store both text and numeric data. To get around this problem the concept of a cell was created. A cell is a container that can hold any type of data. So a cell could contain a matrix, a character array or even another cell. You can then have multiple cells stored together in a single variable called a cell array. \n",
    "\n",
    "We can create an empty cell array with 2 rows and 3 columns using the following code"
   ]
  },
  {
   "cell_type": "code",
   "execution_count": 25,
   "id": "a885e613-d610-4012-a87e-9de0c251448f",
   "metadata": {
    "tags": []
   },
   "outputs": [
    {
     "data": {
      "text/html": [
       "<html><body><pre>a = 2x3 cell array\n",
       "    {0x0 double}    {0x0 double}    {0x0 double}\n",
       "    {0x0 double}    {0x0 double}    {0x0 double}\n",
       "</pre></body></html>"
      ],
      "text/plain": [
       "a = 2x3 cell array\n",
       "    {0x0 double}    {0x0 double}    {0x0 double}\n",
       "    {0x0 double}    {0x0 double}    {0x0 double}\n"
      ]
     },
     "execution_count": 25,
     "metadata": {},
     "output_type": "execute_result"
    }
   ],
   "source": [
    "a = cell(2,3)"
   ]
  },
  {
   "cell_type": "markdown",
   "id": "71df37bf-f818-451a-b90b-ded7fe75f856",
   "metadata": {},
   "source": [
    "Which we could then populate with the names, age and favourite cheese of staff on the course"
   ]
  },
  {
   "cell_type": "code",
   "execution_count": 49,
   "id": "9179c683-b9bb-4fb0-862d-ef63db31040d",
   "metadata": {
    "tags": []
   },
   "outputs": [
    {
     "data": {
      "text/html": [
       "<html><body><pre>a = 2x3 cell array\n",
       "    {'Martyn'}    {[35]}    {'Red Leicester'}\n",
       "    {'Dan'   }    {[93]}    {'Gorgonzola'   }\n",
       "</pre></body></html>"
      ],
      "text/plain": [
       "a = 2x3 cell array\n",
       "    {'Martyn'}    {[35]}    {'Red Leicester'}\n",
       "    {'Dan'   }    {[93]}    {'Gorgonzola'   }\n"
      ]
     },
     "execution_count": 49,
     "metadata": {},
     "output_type": "execute_result"
    }
   ],
   "source": [
    "a{1,1} = 'Martyn';\n",
    "a{1,2} = 35;\n",
    "a{1,3} = 'Red Leicester';\n",
    "a{2,1} = 'Dan';\n",
    "a{2,2} = 93;\n",
    "a{2,3} = 'Gorgonzola';\n",
    "a"
   ]
  },
  {
   "cell_type": "markdown",
   "id": "4683a890-3f2a-453b-8b0a-d3fc25ab0f2a",
   "metadata": {},
   "source": [
    "So now we have a single variable called `a` that contains both numbers and text. Notice as well that we can have text in multiple rows without constraints on its length. We can then use the same indexing approaches used previously to access the data"
   ]
  },
  {
   "cell_type": "code",
   "execution_count": 50,
   "id": "bef637d8-744a-423a-8922-26a0e83143a4",
   "metadata": {
    "tags": []
   },
   "outputs": [
    {
     "data": {
      "text/html": [
       "<html><body><pre>ans = 'Dan'</pre></body></html>"
      ],
      "text/plain": [
       "ans = 'Dan'"
      ]
     },
     "execution_count": 50,
     "metadata": {},
     "output_type": "execute_result"
    },
    {
     "data": {
      "text/html": [
       "<html><body><pre>ans = 93</pre></body></html>"
      ],
      "text/plain": [
       "ans = 93"
      ]
     },
     "execution_count": 50,
     "metadata": {},
     "output_type": "execute_result"
    },
    {
     "data": {
      "text/html": [
       "<html><body><pre>ans = 'Gorgonzola'</pre></body></html>"
      ],
      "text/plain": [
       "ans = 'Gorgonzola'"
      ]
     },
     "execution_count": 50,
     "metadata": {},
     "output_type": "execute_result"
    }
   ],
   "source": [
    "a{2,1}\n",
    "a{2,2}\n",
    "a{2,3}"
   ]
  },
  {
   "cell_type": "markdown",
   "id": "b73776eb-4e67-4928-85d0-dc288cdee0c8",
   "metadata": {},
   "source": [
    "`````{admonition} Tip\n",
    ":class: tip\n",
    "Notice that we index a cell array using curly brackets, rather than curved brackets. The distinction is that curved brackets would return the cell itself, whereas curly brackets would return the contents of the cell. This is a confusing design decision on the part of MathWorks, so do not worry if this is not that clear.\n",
    "`````\n",
    "\n",
    "### Struct\n",
    "\n",
    "Continuing the theme of data structures that can store different types, an alternative to a cell array is to use something called a struct. Where a struct differs from a cell array is that rather than using indices a struct uses named fields to store the data. This is useful because we can access data by name rather than having to remember what index we need for each type of data. \n",
    "\n",
    "Structs are defined by specifying the name of the struct and then using a dot to create fields. For instance"
   ]
  },
  {
   "cell_type": "code",
   "execution_count": 53,
   "id": "967ca57a-e86b-4452-89d9-34c4aa7a27c3",
   "metadata": {
    "tags": []
   },
   "outputs": [],
   "source": [
    "Lecturer.Name   = 'Martyn';\n",
    "Lecturer.Age    = 35;\n",
    "Lecturer.Cheese = 'Red Leicester';"
   ]
  },
  {
   "cell_type": "markdown",
   "id": "44efa8c0-7c84-419b-affe-b77a13c04530",
   "metadata": {},
   "source": [
    "Now we have a struct called `Lecturer` with the fields `Name`, `Age` and `Cheese`. We can then access the values of the fields using the same dot syntax."
   ]
  },
  {
   "cell_type": "code",
   "execution_count": 54,
   "id": "557c9841-7736-4abf-a531-8cc232c4c739",
   "metadata": {
    "tags": []
   },
   "outputs": [
    {
     "data": {
      "text/html": [
       "<html><body><pre>ans = 'Red Leicester'</pre></body></html>"
      ],
      "text/plain": [
       "ans = 'Red Leicester'"
      ]
     },
     "execution_count": 54,
     "metadata": {},
     "output_type": "execute_result"
    }
   ],
   "source": [
    "Lecturer.Cheese"
   ]
  },
  {
   "cell_type": "markdown",
   "id": "c7659df4-00ba-4137-bed8-0826ee2452d9",
   "metadata": {},
   "source": [
    "Structs can also be nested, which means you can end up with some quite complex multi-level structures"
   ]
  },
  {
   "cell_type": "code",
   "execution_count": 55,
   "id": "9cb64fdc-1cef-4630-ab68-265f110472e8",
   "metadata": {
    "tags": []
   },
   "outputs": [],
   "source": [
    "clear Lecturer;\n",
    "\n",
    "Lecturer.Name.Title = 'Dr';\n",
    "Lecturer.Name.First = 'Martyn';\n",
    "Lecturer.Name.Last  = 'McFarquhar';"
   ]
  },
  {
   "cell_type": "markdown",
   "id": "2577480c-e009-4b2a-ad5d-27dd75e88893",
   "metadata": {},
   "source": [
    "So here the struct `Lecturer` contains another struct called `Name` which has the fields `Title`, `First` and `Last`. A trick you can use with an unfamiliar struct is to type the name of the struct, then a dot and then press the <TAB> key to see a menu pop-up of the fields that are available.\n",
    "\n",
    "We can also combine indices and fields to create an array of structs. For example"
   ]
  },
  {
   "cell_type": "code",
   "execution_count": 59,
   "id": "3283636c-e072-4b82-ac84-2f2812a2baea",
   "metadata": {
    "tags": []
   },
   "outputs": [],
   "source": [
    "Lecturer(1).Name.Title  = 'Dr';\n",
    "Lecturer(1).Name.First  = 'Martyn';\n",
    "Lecturer(1).Name.Last   = 'McFarquhar';\n",
    "Lecturer(1).Age         = 35;\n",
    "Lecturer(1).Cheese      = 'Red Leicester';\n",
    "\n",
    "Lecturer(2).Name.Title  = 'Lord High Admiral';\n",
    "Lecturer(2).Name.First  = 'Daniel';\n",
    "Lecturer(2).Name.Last   = 'Cox';\n",
    "Lecturer(2).Age         = 93;\n",
    "Lecturer(2).Cheese      = 'Gorgonzola';"
   ]
  },
  {
   "cell_type": "markdown",
   "id": "8a8638dd-8076-462a-9695-aee11d7955df",
   "metadata": {},
   "source": [
    "which we can then index in the usual fashion"
   ]
  },
  {
   "cell_type": "code",
   "execution_count": 57,
   "id": "c8de74d3-c897-43da-b2d2-7fbf5c24ea44",
   "metadata": {
    "tags": []
   },
   "outputs": [
    {
     "data": {
      "text/html": [
       "<html><body><pre>ans = struct with fields:\n",
       "      Name: [1x1 struct]\n",
       "       Age: 93\n",
       "    Cheese: 'Gorgonzola'\n",
       "</pre></body></html>"
      ],
      "text/plain": [
       "ans = struct with fields:\n",
       "      Name: [1x1 struct]\n",
       "       Age: 93\n",
       "    Cheese: 'Gorgonzola'\n"
      ]
     },
     "execution_count": 57,
     "metadata": {},
     "output_type": "execute_result"
    }
   ],
   "source": [
    "Lecturer(2)"
   ]
  },
  {
   "cell_type": "code",
   "execution_count": 60,
   "id": "00af9c17-bbc5-4ec1-b911-a685a6a25ec6",
   "metadata": {
    "tags": []
   },
   "outputs": [
    {
     "data": {
      "text/html": [
       "<html><body><pre>ans = struct with fields:\n",
       "    Title: 'Lord High Admiral'\n",
       "    First: 'Daniel'\n",
       "     Last: 'Cox'\n",
       "</pre></body></html>"
      ],
      "text/plain": [
       "ans = struct with fields:\n",
       "    Title: 'Lord High Admiral'\n",
       "    First: 'Daniel'\n",
       "     Last: 'Cox'\n"
      ]
     },
     "execution_count": 60,
     "metadata": {},
     "output_type": "execute_result"
    }
   ],
   "source": [
    "Lecturer(2).Name"
   ]
  },
  {
   "cell_type": "markdown",
   "id": "396c4bdc-0312-4038-8711-16a8c0f8308a",
   "metadata": {},
   "source": [
    "## Functions\n",
    "\n",
    "The final topic of this section is one of the most important concepts that we need for programming with MATLAB. One of the central tenets of writing code that can be re-used and easily maintained is to make it modular. This means breaking the code up into independent chunks that do very specific jobs. Those individual chunks are written to be very generic so they can be re-used in many places. The way we achieve this is by isolating chunks of code into functions. You can think of these like a black box that we pass data into and it gives us some data back again.\n",
    "\n",
    "An example of a function is given below"
   ]
  },
  {
   "cell_type": "code",
   "execution_count": 43,
   "id": "409a64c3-3606-448c-abcd-2f53a4ffbbaf",
   "metadata": {
    "tags": []
   },
   "outputs": [],
   "source": [
    "function a = add_five(b)\n",
    "    a = b + 5;\n",
    "end"
   ]
  },
  {
   "cell_type": "markdown",
   "id": "e1fffdc4-9bfd-465e-8ea4-137c18fc3de0",
   "metadata": {},
   "source": [
    "This declares a function called `add_five` that takes a single input variable called `b` and returns a single output variable called `a`. From the body of the function, we can see that all this does is take the value of `b` and adds five to it.\n",
    "\n",
    "In order to use this function we have to write it in a script and then save it using the same filename as the function. So in this case we would save the script as `add_five.m`. This needs to be saved in a location that is on the MATLAB path, so either the current directory or Documents > MATLAB are safe bets. Once you have done that, you can use the `add_five` function at the prompt or in another script like so"
   ]
  },
  {
   "cell_type": "code",
   "execution_count": 44,
   "id": "3af5c4ea-299f-4c39-b663-c6c6039963e8",
   "metadata": {
    "tags": []
   },
   "outputs": [
    {
     "data": {
      "text/html": [
       "<html><body><pre>ans = 12</pre></body></html>"
      ],
      "text/plain": [
       "ans = 12"
      ]
     },
     "execution_count": 44,
     "metadata": {},
     "output_type": "execute_result"
    }
   ],
   "source": [
    "add_five(7)"
   ]
  },
  {
   "cell_type": "markdown",
   "id": "f73e038a-d0b2-4486-b483-0e30853b6464",
   "metadata": {},
   "source": [
    "So what we have done here is saved code in a format where we can use it again simply by typing `add_five` with whatever argument we like. Now, obviously, a function that just adds 5 to a number is a bit useless. However, if you think of something more complex, such as reading neuroimaging data from a file name and returning a matrix of voxel values, you can start appreciating the power of functions. Not only do they make code re-useable, but they also make code easier to understand. For instance, seeing `image = read_data('image_file.nii')` in a script is a lot easier to understand than suddenly seeing 300 lines of code for reading the file from disk. We will see functions come up a lot during this course, mainly in terms of the functions that come with SPM. The main thing to understand is that a function is effectively hiding code from you and that in order to use a function you just need understand what it needs in terms of input variables and what it will return in terms of output variables.\n",
    "\n",
    "## Summary\n",
    "\n",
    "It may seem unfair to call this section a brief introduction to programming in MATLAB, however, the world of computer programming is huge and we have only covered the very basics here. If you are new to programming, this may have felt a bit overwhelming, but do not worry. As we said at the outset, treat this section as a reference that you can come back to in future. A lot of these topics will become clearer over time as you see more examples of code and scripts. What we want at this stage is for you to have some familiarity with this so that the first time you see a MATLAB script you are not doing so cold. We will be providing more guidance on this as we go through the course. If this has whetted your appetite and you want to learn more, there are many books on MATLAB programming, such as MATLAB for Psychologists by Borgo, Soranzo and Grassi."
   ]
  },
  {
   "cell_type": "code",
   "execution_count": null,
   "id": "6706023f-441b-49f2-8d5c-60d6de83b1dd",
   "metadata": {},
   "outputs": [],
   "source": []
  }
 ],
 "metadata": {
  "kernelspec": {
   "display_name": "MATLAB Kernel",
   "language": "matlab",
   "name": "jupyter_matlab_kernel"
  },
  "language_info": {
   "file_extension": ".m",
   "mimetype": "text/x-matlab",
   "name": "matlab"
  }
 },
 "nbformat": 4,
 "nbformat_minor": 5
}