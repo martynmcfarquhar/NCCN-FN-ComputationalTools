{
 "cells": [
  {
   "cell_type": "markdown",
   "id": "d79698dc-62e1-4f1a-9baf-ff41b3ead17d",
   "metadata": {},
   "source": [
    "# MATLAB Programming\n",
    "You should now have some idea about both MATLAB and SPM. Although possible to use SPM without any further knowledge of MATLAB, there is an argument to be made for being at least a bit familiar with MATLAB programming. Although many of our initial interactions with SPM will be via its graphical interface, understanding how programming works, even superficially, will pay dividends in the future. For starters, understanding how to program in MATLAB can be instructive because you can use MATLAB to play around with some of the concepts we will be learning about. This is something we will be doing in the synchronous sessions and so the more familiarity you have before these sessions the better. In addition, there are elements of SPM that can be automated with just a bit of programming knowledge. This can save a huge amount of time and effort and is particularly important if you are looking towards a research career. We will not be getting into this aspect too much yet, but we will do in Advanced Image Analysis in Semester 2 and so building a good foundation now is no bad thing. If nothing else, programming is a very useful transferable skill that warrants some degree of attention.\n",
    "\n",
    "One thing to note about this section is that it is written as more of a reference for future use and can be a bit tedious to go through. We would recommend doing it at this stage, but you may want to return here when you see some of these elements later in the course in order to contextualise their use. You also do not need to memorise any of this, just read through it and try and get the gist. You may want to have MATLAB open as well so you can try some of the code for yourself.\n",
    "\n",
    "## The MATLAB Prompt\n",
    "In order to interact with MATLAB, we have to use the MATLAB prompt. The prompt is signified in the Command Window by the two angled brackets >>. These brackets indicate where we can type in commands for MATLAB to interpret. The general workflow is that we type something at the prompt, hit the <ENTER> key and then whatever we typed gets sent to the MATLAB interpreter to try and make sense of it. If MATLAB understands what we typed then it will do whatever we asked and return the answer. If MATLAB does not understand what we typed, it will return an error trying to tell us what it did not understand. Alternatively, MATLAB might understand us, but then runs into problems trying to do what we asked it to do. In this case it will also return an error telling us what went wrong.\n",
    "\n",
    "Throughout this section, we will indicate MATLAB code like this"
   ]
  },
  {
   "cell_type": "code",
   "execution_count": 2,
   "id": "825efa58-07ba-407a-85a8-fb6976dbd5ad",
   "metadata": {},
   "outputs": [
    {
     "data": {
      "text/html": [
       "<html><body><pre>ans = 12</pre></body></html>"
      ],
      "text/plain": [
       "ans = 12"
      ]
     },
     "execution_count": 2,
     "metadata": {},
     "output_type": "execute_result"
    }
   ],
   "source": [
    "3 * 4"
   ]
  },
  {
   "cell_type": "markdown",
   "id": "7cd304ab-0a0c-4f76-a33a-5bc117b23557",
   "metadata": {},
   "source": [
    "where the text in the box indicates what you can type at the MATLAB prompt and the text below indicates the output of the command. If the code in the grey box contains multiple lines, it can be typed at the prompt one line at a time, but usually this will indicate a MATLAB script instead (more on scripts later). We will often show the output of these commands as well so you can compare our answer to the one MATLAB has given you.\n",
    "\n",
    "If you mistype something, MATLAB will likely return an error."
   ]
  },
  {
   "cell_type": "code",
   "execution_count": 3,
   "id": "4ceb09e9-9104-4233-b4ec-81fe087222dc",
   "metadata": {
    "tags": []
   },
   "outputs": [
    {
     "name": "stderr",
     "output_type": "stream",
     "text": [
      "Invalid text character. Check for unsupported symbol, invisible character, or pasting of non-ASCII characters."
     ]
    }
   ],
   "source": [
    "3 $ b"
   ]
  },
  {
   "cell_type": "markdown",
   "id": "2ba18b20-5522-42f2-b358-a758f28306c7",
   "metadata": {},
   "source": [
    "When faced with an error, part of the skill of computer programming is trying to work out why the command failed. Even for seasoned programmers, errors are common. Errors will decrease with experience, but they will never disappear. The trick is not panicking when you see red text, but rather reading what it says carefully and trying to fix it quickly. In the error above, MATLAB is telling us that it does not understand what $ means, but note that errors will not always be this obvious. More times than not, the problem is a user error. So the best advice we can give when faced with a problem is to look for mistakes you have made as carefully as possible. Only when you have exhausted all other possibilities should you start wondering whether it is a bug or problem with MATLAB.\n",
    "\n",
    "## Variables\n",
    "The most basic element of any programming language is the ability to store things in memory for later use. We do this by using a variable, which you can think of as a box with a name that we put something inside to keep for later. As an example, the code below shows the declaration of a variable called a and assigning it the number 5.\n"
   ]
  },
  {
   "cell_type": "code",
   "execution_count": 4,
   "id": "3626d968-1bb5-4e0f-a7a6-f6338a6791f6",
   "metadata": {
    "tags": []
   },
   "outputs": [],
   "source": [
    "a = 5;"
   ]
  },
  {
   "cell_type": "markdown",
   "id": "3c572e4c-db48-47c5-a3fc-f9c6c98e28c7",
   "metadata": {},
   "source": [
    "This is like having a box called a that contains the number 5. Now, every time we type a, MATLAB will replace it with the number 5. This means we can do the following"
   ]
  },
  {
   "cell_type": "code",
   "execution_count": 5,
   "id": "8290fd80-1aba-49b5-8b81-7cc3590a25cf",
   "metadata": {
    "tags": []
   },
   "outputs": [
    {
     "data": {
      "text/html": [
       "<html><body><pre>ans = 12</pre></body></html>"
      ],
      "text/plain": [
       "ans = 12"
      ]
     },
     "execution_count": 5,
     "metadata": {},
     "output_type": "execute_result"
    }
   ],
   "source": [
    "a + 7"
   ]
  },
  {
   "cell_type": "markdown",
   "id": "774eb49b-d279-43af-a119-f07d8b6961c4",
   "metadata": {},
   "source": [
    "Similarly, we could declare another variable with a different name."
   ]
  },
  {
   "cell_type": "code",
   "execution_count": 6,
   "id": "e7bb993f-1fc1-40c5-b4c3-86de51c492d1",
   "metadata": {
    "tags": []
   },
   "outputs": [],
   "source": [
    "b = 10;"
   ]
  },
  {
   "cell_type": "markdown",
   "id": "ae29a1d0-b023-4eaa-9cc5-1af990f42bcf",
   "metadata": {},
   "source": [
    "We can then add those variables together"
   ]
  },
  {
   "cell_type": "code",
   "execution_count": 7,
   "id": "38319038-013e-4322-83f0-449a079d4988",
   "metadata": {
    "tags": []
   },
   "outputs": [
    {
     "data": {
      "text/html": [
       "<html><body><pre>ans = 15</pre></body></html>"
      ],
      "text/plain": [
       "ans = 15"
      ]
     },
     "execution_count": 7,
     "metadata": {},
     "output_type": "execute_result"
    }
   ],
   "source": [
    "a + b"
   ]
  },
  {
   "cell_type": "markdown",
   "id": "6a5f39d2-23c8-4898-bad8-fa53384fbc42",
   "metadata": {},
   "source": [
    "Although these examples have used numbers, variables can hold any data type that MATLAB recognises. For instance, one of the most useful data types we can save to a variable is text"
   ]
  },
  {
   "cell_type": "code",
   "execution_count": 8,
   "id": "27eef7b1-e476-4419-813e-45e53e53c682",
   "metadata": {
    "tags": []
   },
   "outputs": [],
   "source": [
    "hello_text = 'hello';"
   ]
  },
  {
   "cell_type": "markdown",
   "id": "b9f69261-be45-4c02-9a87-2f37e7d50c79",
   "metadata": {},
   "source": [
    "which we could use to store a file path or file name, for instance.\n",
    "\n",
    "There are a few rules you have to adhere to when naming variables. A variable name cannot start with a number, it cannot contain spaces and the only special character you can use is an underscore. You also need to be aware that MATLAB is case-sensitive and so hello_text and HELLO_TEXT would be seen as different variables. In addition, remember that a variable can only hold one thing at a time and if you re-assign a variable then the original value will be lost."
   ]
  },
  {
   "cell_type": "markdown",
   "id": "61418aeb-5263-4ef7-8e93-d8a64fe89997",
   "metadata": {
    "tags": []
   },
   "source": [
    "## Scripts\n",
    "Typically, if we are writing code to complete some task we will not be entering it line by line at the MATLAB prompt. Instead, we will write all our steps inside a script. You can think of a script as a recipe that we write in code inside a text file. It has multiple steps that are written on different lines read from top to bottom that MATLAB will execute one at a time. These scripts can be saved so they can be re-used or used as templates for other scripts in the future. Indeed, writing scripts is one of the best ways of leaving a paper trail for your analysis to fully document what you did to the data.\n",
    "\n",
    "In order to start writing a script click the New Script icon in the MATLAB toolbar to open the blank script editor. We can now enter all our code in this new window. When we want to run it, we save the file and then click the big green Run button in the toolbar. Usefully, we can also include comments in a script. These are pieces of text that MATLAB will ignore, but serve as notes for our future selves. You can include a comment in a script by typing the percentage symbol, followed by whatever text you like. These will be coloured green to make the comments obvious. For example"
   ]
  },
  {
   "cell_type": "code",
   "execution_count": 9,
   "id": "18928adc-cbea-41dd-a5a1-e1614be55f75",
   "metadata": {
    "tags": []
   },
   "outputs": [],
   "source": [
    "% This is a comment\n",
    "a = 5;\n",
    "\n",
    "% This is another comment. It will be ignored by MATLAB when the script is executed.\n",
    "b = 10;\n",
    "\n",
    "% Comments can be used to describe what code is doing. For instance, add a to b and save to c.\n",
    "c = a + b;"
   ]
  },
  {
   "cell_type": "markdown",
   "id": "9b547eec-2d69-49e5-a275-ffe7cfd65401",
   "metadata": {},
   "source": [
    "## Control Flow\n",
    "In the process of writing a script, we may need to decide whether to run code based on some criteria. Alternatively, we may need to repeat a chunk of code a certain number of times. Both of these tasks are examples of control flow where we dictate a more complex path for the code to follow (rather than just running line-by-line). We can break the main types of control flow down into if-statements and for-loops.\n",
    "\n",
    "### If-statement\n",
    "An if-statement allows us to make a choice about whether some code is run or not. This is intimately tied to the ideas of variables. Because we do not necessarily know what value a variable will have when we run some code, we may want to check what the value is and then decide what we want to do. An if-statement allows us to ask a question and then decide whether to run some code or not, depending on the answer. This question has to either be true or false, so we can only ask things like \"is this variable larger than 5\". We can then decide what we want MATLAB to do if the question is true and what we want MATLAB to do if the question is false.\n",
    "\n",
    "An if-statement has the following structure"
   ]
  },
  {
   "cell_type": "code",
   "execution_count": 10,
   "id": "5e5007ef-c80f-4a13-b31c-c9d15f63c0b2",
   "metadata": {
    "tags": []
   },
   "outputs": [],
   "source": [
    "%if % Ask question\n",
    "    % What to do if question is true\n",
    "%else\n",
    "    % What to do if question is false\n",
    "%end"
   ]
  },
  {
   "cell_type": "markdown",
   "id": "1e836672-78d9-4b8e-9a9d-46ec83db5814",
   "metadata": {},
   "source": [
    "So, for example, if we wanted to set some text to be different if the variable a was larger than 5 compared to if it is smaller than (or equal) to 5, we could write"
   ]
  },
  {
   "cell_type": "code",
   "execution_count": 11,
   "id": "e796b7c7-a0b1-4e3c-a402-ccb88e373351",
   "metadata": {
    "tags": []
   },
   "outputs": [
    {
     "name": "stdout",
     "output_type": "stream",
     "text": [
      "The number you typed is greater than 5\n"
     ]
    }
   ],
   "source": [
    "number  = 20;\n",
    "message = '';\n",
    "\n",
    "if number > 5\n",
    "    message = 'The number you typed is greater than 5';\n",
    "else\n",
    "    message = 'The number you typed is is less than (or equal) to 5';\n",
    "end\n",
    "\n",
    "disp(message);"
   ]
  },
  {
   "cell_type": "markdown",
   "id": "470bf3e3-a09f-4207-8f0f-3673069da33a",
   "metadata": {},
   "source": [
    "When this script is run, you will be prompted to type in a number and then you will see a message about whether the number was greater than 5 or not. Not exactly Nobel prize stuff, but hopefully the use of the if-statement is clear.\n",
    "\n",
    "We can also place an if-statement inside another if-statement to make different choices if the original question is true. This is known as nesting statements."
   ]
  },
  {
   "cell_type": "code",
   "execution_count": 15,
   "id": "c678b9bf-0e19-41a3-876a-fe160ef4b062",
   "metadata": {
    "tags": []
   },
   "outputs": [
    {
     "name": "stdout",
     "output_type": "stream",
     "text": [
      "The number you typed was 5\n"
     ]
    }
   ],
   "source": [
    "number  = 5;\n",
    "message = '';\n",
    "\n",
    "if number >= 5\n",
    "    if number == 5\n",
    "        message = 'The number you typed was 5';\n",
    "    else\n",
    "        message = 'The number you typed was greater than 5';\n",
    "    end\n",
    "else\n",
    "    message = 'The number you typed was less than 5';\n",
    "end\n",
    "\n",
    "disp(message);"
   ]
  },
  {
   "cell_type": "markdown",
   "id": "e7b36fc9-065b-4e19-99a9-754f5153f031",
   "metadata": {},
   "source": [
    "In all of these examples, the symbols >, >= and == are all examples of relational operations that allow us to compare variables in different ways. You can read about the operations that MATLAB supports in the documentation.\n",
    "\n",
    "### For-loops\n",
    "Beyond checking variable values, we often want to repeat some code a certain number of times in a script. For instance, we may want to copy multiple files, or run some image processing on multiple images. In both cases we want MATLAB to repeat the same set of steps multiple times, but with a different input. For this purpose, all programming languages contain the concept of loops, which allow us to write a set of steps once and then ask the computer to repeat those steps as many times as we want.\n",
    "\n",
    "The main type of loop we use is known as a for-loop, which has the following structure"
   ]
  },
  {
   "cell_type": "code",
   "execution_count": 16,
   "id": "27e5b517-ee4d-4423-8950-d0ecd3eb3681",
   "metadata": {
    "tags": []
   },
   "outputs": [],
   "source": [
    "%for % index_variable = start_value:end_value\n",
    "    % What to do on each iteration\n",
    "%end"
   ]
  },
  {
   "cell_type": "markdown",
   "id": "5e0de224-b09c-4638-a435-bd97494472c8",
   "metadata": {},
   "source": [
    "and could be used to sum all the number from 1 to 10"
   ]
  },
  {
   "cell_type": "code",
   "execution_count": 17,
   "id": "28365ae1-f414-4c95-bfdd-3a25c861fc90",
   "metadata": {
    "tags": []
   },
   "outputs": [
    {
     "name": "stdout",
     "output_type": "stream",
     "text": [
      "    55\n",
      "\n"
     ]
    }
   ],
   "source": [
    "number = 10;\n",
    "sum    = 0;\n",
    "\n",
    "for i = 1:number\n",
    "    sum = sum + i;\n",
    "end\n",
    "\n",
    "disp(sum)"
   ]
  },
  {
   "cell_type": "markdown",
   "id": "838217e8-6c60-4953-9497-c720fa86acae",
   "metadata": {},
   "source": [
    "An important part of the for-loop is the index variable which tells us the current iteration of the loop. In the example above, the index variable is called i. We asked MATLAB to start i with a value of 1 and then continue adding 1 until it reached the value of number, at which point the loop will exit. This is all given in the syntax for i = 1:number. On the first iteration of the loop, i will have a value of 1, on the second iteration i will have a value of 2 and so on. The utility of this is that we can use i inside the loop to know which iteration is currently running. In the example above, we used this to add the current number onto the previous sum, but the real utility of this is that we can use i to select different variables for each iteration of the loop. For instance, if we had a list of images we wanted to process we can use a for-loop and then use the index variable to select the correct image on each iteration. \n",
    "\n",
    "For-loops can also be nested, which we will see quite often because these allow us to loop over 2D and 3D structures. For instance, if we wanted to access every voxel of a 3D image we could use three nested for-loops that move over the rows, columns and slices of an image"
   ]
  },
  {
   "cell_type": "code",
   "execution_count": 18,
   "id": "41881436-a0c9-4159-a67b-62411cab4259",
   "metadata": {
    "tags": []
   },
   "outputs": [],
   "source": [
    "image_rows = 100;\n",
    "image_cols = 100;\n",
    "image_slcs = 100;\n",
    "\n",
    "for i = 1:image_rows\n",
    "    for j = 1:image_cols\n",
    "        for k = 1:image_slcs\n",
    "            % Do something with the voxel at row i column j slice k\n",
    "        end\n",
    "    end\n",
    "end"
   ]
  },
  {
   "cell_type": "markdown",
   "id": "921e9a63-561e-4d19-a676-a4ac4964f249",
   "metadata": {},
   "source": [
    "## Data Structures\n",
    "We have now seen how we can use variables and control flow to build basic scripts. However, one limitation of what we have so far is that if we want to access and process many values within the script we would need to assign each to a different variable with a different name. For instance, if we have 100 values we wanted access to, it would be incredibly tedious to assign each one to a separate variable. In these instances, we can make use of various data structures in MATLAB that allow us to assign multiple values to the same variable.\n",
    "\n",
    "### Matrix"
   ]
  },
  {
   "cell_type": "markdown",
   "id": "f160fc60-2756-4e96-8922-a60c30db6117",
   "metadata": {},
   "source": [
    "The most basic form of data structure in MATLAB is a matrix. We will talk about the mathematical interpretation of a matrix in the next section, but for now we can just treat it as a container for numbers that has a certain number of rows and a certain number of columns (like a spreadsheet or a table). You specify a matrix in MATLAB using square brackets, where a space indicates a new column and a semi-colon indicates a new row. For example, the following code"
   ]
  },
  {
   "cell_type": "code",
   "execution_count": 19,
   "id": "2e9dd09d-0a64-4324-98e2-188d5e91bf50",
   "metadata": {
    "tags": []
   },
   "outputs": [
    {
     "data": {
      "text/html": [
       "<html><body><pre>A = 2x3 double\n",
       "     1     2     3\n",
       "     4     5     6\n",
       "</pre></body></html>"
      ],
      "text/plain": [
       "A = 2x3 double\n",
       "     1     2     3\n",
       "     4     5     6\n"
      ]
     },
     "execution_count": 19,
     "metadata": {},
     "output_type": "execute_result"
    }
   ],
   "source": [
    "A = [1 2 3; 4 5 6]"
   ]
  },
  {
   "cell_type": "markdown",
   "id": "c0726001-a72f-4b42-8fda-6d599d210124",
   "metadata": {},
   "source": [
    "specifies a matrix called A that has 2 rows, 3 columns and contains the numbers 1-6.\n",
    "\n",
    "Accessing the individual elements of a matrix requires indexing. We use curved brackets after the variable name and then indicate which row and column we want, separated by commas. For example, to access the number 2 we would use the following code to indicate that we want row 1 and column 2"
   ]
  },
  {
   "cell_type": "code",
   "execution_count": 20,
   "id": "462fbeaf-dd7d-46c1-848a-5f31c79b5efc",
   "metadata": {
    "tags": []
   },
   "outputs": [
    {
     "data": {
      "text/html": [
       "<html><body><pre>ans = 2</pre></body></html>"
      ],
      "text/plain": [
       "ans = 2"
      ]
     },
     "execution_count": 20,
     "metadata": {},
     "output_type": "execute_result"
    }
   ],
   "source": [
    "A(1,2)"
   ]
  },
  {
   "cell_type": "markdown",
   "id": "70e7cd91-51b1-42be-be76-4b52362f7af4",
   "metadata": {},
   "source": [
    "The utility of the for-loop is hopefully a bit clearer now, as we can use it to access all the elements inside a matrix using the index variables"
   ]
  },
  {
   "cell_type": "code",
   "execution_count": 21,
   "id": "0b6404e6-e1fb-463c-b86a-1b8111ee1a63",
   "metadata": {
    "tags": []
   },
   "outputs": [
    {
     "name": "stdout",
     "output_type": "stream",
     "text": [
      "     1\n",
      "\n",
      "     2\n",
      "\n",
      "     3\n",
      "\n",
      "     4\n",
      "\n",
      "     5\n",
      "\n",
      "     6\n",
      "\n"
     ]
    }
   ],
   "source": [
    "for i = 1:size(A,1)\n",
    "    for j = 1:size(A,2)\n",
    "        number = A(i,j);\n",
    "        disp(number);\n",
    "    end\n",
    "end"
   ]
  },
  {
   "cell_type": "markdown",
   "id": "5c5a246b-9352-4c38-9a56-06e16f9d34b0",
   "metadata": {},
   "source": [
    "where `size(A,1)` tells you how many rows `A` has, `size(A,2)` tells you how many columns `A` has and the `disp()` function tells MATLAB to print the number at the prompt.\n",
    "\n",
    "### Character Array\n",
    "\n",
    "Beyond numbers, we may also want to store text in some sort of data structure. This is where the character array comes in. We actually saw a character array earlier when we specified the `hello_text` variable. Rather than being a variable with a single value, what was returned was actually a character array with 1 row and as many columns as letters. So a character array is really the same as a matrix, but the rows and columns refer to letters instead of numbers. A limitation to this approach, however, is that if you want multiple rows there needs to be the same number of characters in each row."
   ]
  },
  {
   "cell_type": "code",
   "execution_count": 22,
   "id": "93cbe82f-56c0-47df-b12e-6fd889ef6b34",
   "metadata": {
    "tags": []
   },
   "outputs": [
    {
     "data": {
      "text/html": [
       "<html><body><pre>a = 2x23 char array\n",
       "    'hello this is some text'\n",
       "    'hello this is more text'\n",
       "</pre></body></html>"
      ],
      "text/plain": [
       "a = 2x23 char array\n",
       "    'hello this is some text'\n",
       "    'hello this is more text'\n"
      ]
     },
     "execution_count": 22,
     "metadata": {},
     "output_type": "execute_result"
    }
   ],
   "source": [
    "a = ['hello this is some text'; 'hello this is more text']"
   ]
  },
  {
   "cell_type": "markdown",
   "id": "ecd77d0c-201c-4783-bedb-9876a83884d2",
   "metadata": {},
   "source": [
    "Alternatively, you have to pad the rows with spaces to make up the difference."
   ]
  },
  {
   "cell_type": "code",
   "execution_count": 23,
   "id": "11a1df09-0afd-4a1b-9abf-74931bde9257",
   "metadata": {
    "tags": []
   },
   "outputs": [
    {
     "data": {
      "text/html": [
       "<html><body><pre>a = 2x23 char array\n",
       "    'hello this is some text'\n",
       "    'hello this is padding  '\n",
       "</pre></body></html>"
      ],
      "text/plain": [
       "a = 2x23 char array\n",
       "    'hello this is some text'\n",
       "    'hello this is padding  '\n"
      ]
     },
     "execution_count": 23,
     "metadata": {},
     "output_type": "execute_result"
    }
   ],
   "source": [
    "a = ['hello this is some text'; 'hello this is padding  ']"
   ]
  },
  {
   "cell_type": "code",
   "execution_count": null,
   "id": "e5e46309-1e39-476c-b82c-dbef5943e936",
   "metadata": {},
   "outputs": [],
   "source": []
  }
 ],
 "metadata": {
  "kernelspec": {
   "display_name": "MATLAB Kernel",
   "language": "matlab",
   "name": "jupyter_matlab_kernel"
  },
  "language_info": {
   "file_extension": ".m",
   "mimetype": "text/x-matlab",
   "name": "matlab"
  }
 },
 "nbformat": 4,
 "nbformat_minor": 5
}